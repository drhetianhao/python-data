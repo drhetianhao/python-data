{
 "cells": [
  {
   "cell_type": "code",
   "execution_count": 10,
   "metadata": {},
   "outputs": [],
   "source": [
    "import pandas as pd\n",
    "import numpy as np\n",
    "\n",
    "data = pd.read_excel(\"test.xlsx\")\n",
    "data = data.drop(\n",
    "    columns=[\n",
    "        \"dtime\",\n",
    "        \"packet_id\",\n",
    "        \"packet_size\",\n",
    "        \"cum_size\",\n",
    "        \"delta_duration\",\n",
    "        \"location_id\",\n",
    "    ]\n",
    ")"
   ]
  },
  {
   "cell_type": "code",
   "execution_count": 12,
   "metadata": {},
   "outputs": [
    {
     "data": {
      "text/html": [
       "<div>\n",
       "<style scoped>\n",
       "    .dataframe tbody tr th:only-of-type {\n",
       "        vertical-align: middle;\n",
       "    }\n",
       "\n",
       "    .dataframe tbody tr th {\n",
       "        vertical-align: top;\n",
       "    }\n",
       "\n",
       "    .dataframe thead th {\n",
       "        text-align: right;\n",
       "    }\n",
       "</style>\n",
       "<table border=\"1\" class=\"dataframe\">\n",
       "  <thead>\n",
       "    <tr style=\"text-align: right;\">\n",
       "      <th></th>\n",
       "      <th>unit_id</th>\n",
       "      <th>cum_packets_recv</th>\n",
       "      <th>cum_duration</th>\n",
       "      <th>batch</th>\n",
       "    </tr>\n",
       "  </thead>\n",
       "  <tbody>\n",
       "    <tr>\n",
       "      <th>0</th>\n",
       "      <td>665940</td>\n",
       "      <td>1</td>\n",
       "      <td>29</td>\n",
       "      <td>1</td>\n",
       "    </tr>\n",
       "    <tr>\n",
       "      <th>1</th>\n",
       "      <td>665940</td>\n",
       "      <td>2</td>\n",
       "      <td>35</td>\n",
       "      <td>1</td>\n",
       "    </tr>\n",
       "    <tr>\n",
       "      <th>2</th>\n",
       "      <td>665940</td>\n",
       "      <td>3</td>\n",
       "      <td>40</td>\n",
       "      <td>1</td>\n",
       "    </tr>\n",
       "    <tr>\n",
       "      <th>3</th>\n",
       "      <td>665940</td>\n",
       "      <td>4</td>\n",
       "      <td>45</td>\n",
       "      <td>1</td>\n",
       "    </tr>\n",
       "    <tr>\n",
       "      <th>4</th>\n",
       "      <td>665940</td>\n",
       "      <td>5</td>\n",
       "      <td>985</td>\n",
       "      <td>1</td>\n",
       "    </tr>\n",
       "  </tbody>\n",
       "</table>\n",
       "</div>"
      ],
      "text/plain": [
       "   unit_id  cum_packets_recv  cum_duration  batch\n",
       "0   665940                 1            29      1\n",
       "1   665940                 2            35      1\n",
       "2   665940                 3            40      1\n",
       "3   665940                 4            45      1\n",
       "4   665940                 5           985      1"
      ]
     },
     "execution_count": 12,
     "metadata": {},
     "output_type": "execute_result"
    }
   ],
   "source": [
    "data.head()"
   ]
  },
  {
   "cell_type": "code",
   "execution_count": 13,
   "metadata": {},
   "outputs": [],
   "source": [
    "only10folddata = data[data[\"cum_packets_recv\"] % 10 == 0]"
   ]
  },
  {
   "cell_type": "code",
   "execution_count": 24,
   "metadata": {},
   "outputs": [
    {
     "data": {
      "text/html": [
       "<div>\n",
       "<style scoped>\n",
       "    .dataframe tbody tr th:only-of-type {\n",
       "        vertical-align: middle;\n",
       "    }\n",
       "\n",
       "    .dataframe tbody tr th {\n",
       "        vertical-align: top;\n",
       "    }\n",
       "\n",
       "    .dataframe thead th {\n",
       "        text-align: right;\n",
       "    }\n",
       "</style>\n",
       "<table border=\"1\" class=\"dataframe\">\n",
       "  <thead>\n",
       "    <tr style=\"text-align: right;\">\n",
       "      <th></th>\n",
       "      <th>unit_id</th>\n",
       "      <th>cum_packets_recv</th>\n",
       "      <th>cum_duration</th>\n",
       "      <th>batch</th>\n",
       "    </tr>\n",
       "  </thead>\n",
       "  <tbody>\n",
       "    <tr>\n",
       "      <th>9418</th>\n",
       "      <td>665940</td>\n",
       "      <td>850</td>\n",
       "      <td>88333</td>\n",
       "      <td>10</td>\n",
       "    </tr>\n",
       "    <tr>\n",
       "      <th>9428</th>\n",
       "      <td>665940</td>\n",
       "      <td>860</td>\n",
       "      <td>89024</td>\n",
       "      <td>10</td>\n",
       "    </tr>\n",
       "    <tr>\n",
       "      <th>9438</th>\n",
       "      <td>665940</td>\n",
       "      <td>870</td>\n",
       "      <td>89146</td>\n",
       "      <td>10</td>\n",
       "    </tr>\n",
       "    <tr>\n",
       "      <th>9448</th>\n",
       "      <td>665940</td>\n",
       "      <td>880</td>\n",
       "      <td>91008</td>\n",
       "      <td>10</td>\n",
       "    </tr>\n",
       "    <tr>\n",
       "      <th>9458</th>\n",
       "      <td>665940</td>\n",
       "      <td>890</td>\n",
       "      <td>91991</td>\n",
       "      <td>10</td>\n",
       "    </tr>\n",
       "  </tbody>\n",
       "</table>\n",
       "</div>"
      ],
      "text/plain": [
       "      unit_id  cum_packets_recv  cum_duration  batch\n",
       "9418   665940               850         88333     10\n",
       "9428   665940               860         89024     10\n",
       "9438   665940               870         89146     10\n",
       "9448   665940               880         91008     10\n",
       "9458   665940               890         91991     10"
      ]
     },
     "execution_count": 24,
     "metadata": {},
     "output_type": "execute_result"
    }
   ],
   "source": [
    "only10folddata.tail()"
   ]
  },
  {
   "cell_type": "code",
   "execution_count": 15,
   "metadata": {},
   "outputs": [],
   "source": [
    "datagroup = only10folddata.groupby(\"batch\")"
   ]
  },
  {
   "cell_type": "code",
   "execution_count": 25,
   "metadata": {},
   "outputs": [
    {
     "data": {
      "text/plain": [
       "pandas.core.groupby.generic.DataFrameGroupBy"
      ]
     },
     "execution_count": 25,
     "metadata": {},
     "output_type": "execute_result"
    }
   ],
   "source": [
    "type(datagroup)"
   ]
  },
  {
   "cell_type": "code",
   "execution_count": 26,
   "metadata": {
    "scrolled": true
   },
   "outputs": [
    {
     "name": "stdout",
     "output_type": "stream",
     "text": [
      "     unit_id  cum_packets_recv  cum_duration  batch\n",
      "9     665940                10          6083      1\n",
      "19    665940                20         10979      1\n",
      "29    665940                30         12121      1\n",
      "39    665940                40         12243      1\n",
      "49    665940                50         13998      1\n",
      "..       ...               ...           ...    ...\n",
      "959   665940               960         92011      1\n",
      "969   665940               970         92131      1\n",
      "979   665940               980         92254      1\n",
      "989   665940               990         93101      1\n",
      "999   665940              1000         93223      1\n",
      "\n",
      "[100 rows x 4 columns]\n"
     ]
    }
   ],
   "source": [
    "df = datagroup.get_group(1)\n",
    "print(datagroup.get_group(1))\n",
    "top_row = pd.DataFrame({\"cum_packets_recv\": [0], \"cum_duration\": [0]})\n",
    "# Concat with old DataFrame and reset the Index.\n",
    "df = pd.concat([top_row, df]).reset_index(drop=True)\n",
    "df[\"cum_duration\"] = pd.to_numeric(df[\"cum_duration\"])"
   ]
  },
  {
   "cell_type": "code",
   "execution_count": 27,
   "metadata": {},
   "outputs": [
    {
     "data": {
      "text/html": [
       "<div>\n",
       "<style scoped>\n",
       "    .dataframe tbody tr th:only-of-type {\n",
       "        vertical-align: middle;\n",
       "    }\n",
       "\n",
       "    .dataframe tbody tr th {\n",
       "        vertical-align: top;\n",
       "    }\n",
       "\n",
       "    .dataframe thead th {\n",
       "        text-align: right;\n",
       "    }\n",
       "</style>\n",
       "<table border=\"1\" class=\"dataframe\">\n",
       "  <thead>\n",
       "    <tr style=\"text-align: right;\">\n",
       "      <th></th>\n",
       "      <th>cum_packets_recv</th>\n",
       "      <th>cum_duration</th>\n",
       "      <th>unit_id</th>\n",
       "      <th>batch</th>\n",
       "    </tr>\n",
       "  </thead>\n",
       "  <tbody>\n",
       "    <tr>\n",
       "      <th>0</th>\n",
       "      <td>0</td>\n",
       "      <td>0</td>\n",
       "      <td>NaN</td>\n",
       "      <td>NaN</td>\n",
       "    </tr>\n",
       "    <tr>\n",
       "      <th>1</th>\n",
       "      <td>10</td>\n",
       "      <td>6083</td>\n",
       "      <td>665940.0</td>\n",
       "      <td>1.0</td>\n",
       "    </tr>\n",
       "    <tr>\n",
       "      <th>2</th>\n",
       "      <td>20</td>\n",
       "      <td>10979</td>\n",
       "      <td>665940.0</td>\n",
       "      <td>1.0</td>\n",
       "    </tr>\n",
       "    <tr>\n",
       "      <th>3</th>\n",
       "      <td>30</td>\n",
       "      <td>12121</td>\n",
       "      <td>665940.0</td>\n",
       "      <td>1.0</td>\n",
       "    </tr>\n",
       "    <tr>\n",
       "      <th>4</th>\n",
       "      <td>40</td>\n",
       "      <td>12243</td>\n",
       "      <td>665940.0</td>\n",
       "      <td>1.0</td>\n",
       "    </tr>\n",
       "  </tbody>\n",
       "</table>\n",
       "</div>"
      ],
      "text/plain": [
       "   cum_packets_recv  cum_duration   unit_id  batch\n",
       "0                 0             0       NaN    NaN\n",
       "1                10          6083  665940.0    1.0\n",
       "2                20         10979  665940.0    1.0\n",
       "3                30         12121  665940.0    1.0\n",
       "4                40         12243  665940.0    1.0"
      ]
     },
     "execution_count": 27,
     "metadata": {},
     "output_type": "execute_result"
    }
   ],
   "source": [
    "df.head()"
   ]
  },
  {
   "cell_type": "code",
   "execution_count": 28,
   "metadata": {},
   "outputs": [],
   "source": [
    "difference = df[\"cum_duration\"]\n",
    "difference = difference.diff(periods=3)\n",
    "df1 = difference.dropna()"
   ]
  },
  {
   "cell_type": "code",
   "execution_count": 30,
   "metadata": {},
   "outputs": [
    {
     "data": {
      "text/plain": [
       "3      12121.0\n",
       "4       6160.0\n",
       "5       3019.0\n",
       "6       3004.0\n",
       "7       3005.0\n",
       "        ...   \n",
       "96      1976.0\n",
       "97      1091.0\n",
       "98      1091.0\n",
       "99      1090.0\n",
       "100     1092.0\n",
       "Name: cum_duration, Length: 98, dtype: float64"
      ]
     },
     "execution_count": 30,
     "metadata": {},
     "output_type": "execute_result"
    }
   ],
   "source": [
    "df1"
   ]
  },
  {
   "cell_type": "code",
   "execution_count": 32,
   "metadata": {
    "scrolled": true
   },
   "outputs": [],
   "source": [
    "df2 = df1.quantile(0.7)\n",
    "df1 = df1.to_numpy()\n",
    "mbps = 1400 * 8 * 30 / df2\n",
    "df1 = np.append(df1, df2)\n",
    "df1 = np.append(df1, mbps)"
   ]
  },
  {
   "cell_type": "code",
   "execution_count": 33,
   "metadata": {},
   "outputs": [
    {
     "data": {
      "text/plain": [
       "array([12121.        ,  6160.        ,  3019.        ,  3004.        ,\n",
       "        3005.        ,  1372.        ,  2361.        ,  4307.        ,\n",
       "        5183.        ,  4195.        ,  2243.        ,  1368.        ,\n",
       "         362.        ,   368.        ,   367.        ,   367.        ,\n",
       "       10423.        , 10421.        , 12191.        ,  2130.        ,\n",
       "        2856.        ,  1085.        ,  1864.        ,  1140.        ,\n",
       "        1927.        ,  1152.        ,  1152.        ,  2039.        ,\n",
       "        2035.        ,  2746.        ,  1073.        ,  4802.        ,\n",
       "        4087.        ,  4088.        ,   363.        ,   370.        ,\n",
       "         773.        ,  1646.        ,  1643.        ,  1962.        ,\n",
       "        1089.        ,  1839.        ,  2449.        ,  3328.        ,\n",
       "        2573.        ,  1240.        ,  1111.        ,  1116.        ,\n",
       "        1861.        ,  1111.        ,  2759.        ,  2900.        ,\n",
       "        3847.        ,  2199.        ,  1313.        ,  1024.        ,\n",
       "        1024.        ,  3695.        ,  4401.        ,  6782.        ,\n",
       "        5005.        ,  3643.        ,  2024.        ,  1132.        ,\n",
       "        1895.        ,  1130.        ,  2883.        ,  3033.        ,\n",
       "        3036.        ,  2019.        ,  1102.        ,  1872.        ,\n",
       "        1133.        ,  1140.        ,  2944.        ,  2939.        ,\n",
       "        3736.        ,  1160.        ,  1969.        ,  1167.        ,\n",
       "        2892.        ,  3965.        ,  4866.        ,  5022.        ,\n",
       "        4045.        ,  3144.        ,  2017.        ,  1120.        ,\n",
       "        1855.        ,  1103.        ,  2819.        ,  2967.        ,\n",
       "        2968.        ,  1976.        ,  1091.        ,  1091.        ,\n",
       "        1090.        ,  1092.        ,  2967.9       ,   113.21136157])"
      ]
     },
     "execution_count": 33,
     "metadata": {},
     "output_type": "execute_result"
    }
   ],
   "source": [
    "df1"
   ]
  },
  {
   "cell_type": "code",
   "execution_count": 34,
   "metadata": {},
   "outputs": [
    {
     "data": {
      "text/plain": [
       "2967.9"
      ]
     },
     "execution_count": 34,
     "metadata": {},
     "output_type": "execute_result"
    }
   ],
   "source": [
    "df2"
   ]
  },
  {
   "cell_type": "code",
   "execution_count": 7,
   "metadata": {},
   "outputs": [
    {
     "ename": "ValueError",
     "evalue": "Append mode is not supported with xlsxwriter!",
     "output_type": "error",
     "traceback": [
      "\u001b[1;31m---------------------------------------------------------------------------\u001b[0m",
      "\u001b[1;31mValueError\u001b[0m                                Traceback (most recent call last)",
      "\u001b[1;32m<ipython-input-7-eec697847b77>\u001b[0m in \u001b[0;36m<module>\u001b[1;34m\u001b[0m\n\u001b[0;32m      1\u001b[0m \u001b[0mdf\u001b[0m \u001b[1;33m=\u001b[0m \u001b[0mpd\u001b[0m\u001b[1;33m.\u001b[0m\u001b[0mDataFrame\u001b[0m \u001b[1;33m(\u001b[0m\u001b[0mdf1\u001b[0m\u001b[1;33m)\u001b[0m\u001b[1;33m\u001b[0m\u001b[1;33m\u001b[0m\u001b[0m\n\u001b[0;32m      2\u001b[0m \u001b[0mfilepath\u001b[0m \u001b[1;33m=\u001b[0m \u001b[1;34mr'D:\\my_excel_file.xlsx'\u001b[0m\u001b[1;33m\u001b[0m\u001b[1;33m\u001b[0m\u001b[0m\n\u001b[1;32m----> 3\u001b[1;33m \u001b[1;32mwith\u001b[0m \u001b[0mpd\u001b[0m\u001b[1;33m.\u001b[0m\u001b[0mExcelWriter\u001b[0m\u001b[1;33m(\u001b[0m\u001b[0mfilepath\u001b[0m\u001b[1;33m,\u001b[0m\u001b[0mmode\u001b[0m\u001b[1;33m=\u001b[0m\u001b[1;34m'a'\u001b[0m\u001b[1;33m)\u001b[0m \u001b[1;32mas\u001b[0m \u001b[0mwriter\u001b[0m\u001b[1;33m:\u001b[0m\u001b[1;33m\u001b[0m\u001b[1;33m\u001b[0m\u001b[0m\n\u001b[0m\u001b[0;32m      4\u001b[0m     \u001b[0mdf\u001b[0m\u001b[1;33m.\u001b[0m\u001b[0mto_excel\u001b[0m\u001b[1;33m(\u001b[0m\u001b[0mfilepath\u001b[0m\u001b[1;33m,\u001b[0m \u001b[0mindex\u001b[0m\u001b[1;33m=\u001b[0m\u001b[1;32mFalse\u001b[0m\u001b[1;33m)\u001b[0m\u001b[1;33m\u001b[0m\u001b[1;33m\u001b[0m\u001b[0m\n",
      "\u001b[1;32m~\\AppData\\Local\\Continuum\\anaconda3\\lib\\site-packages\\pandas\\io\\excel\\_xlsxwriter.py\u001b[0m in \u001b[0;36m__init__\u001b[1;34m(self, path, engine, date_format, datetime_format, mode, **engine_kwargs)\u001b[0m\n\u001b[0;32m    175\u001b[0m \u001b[1;33m\u001b[0m\u001b[0m\n\u001b[0;32m    176\u001b[0m         \u001b[1;32mif\u001b[0m \u001b[0mmode\u001b[0m \u001b[1;33m==\u001b[0m \u001b[1;34m\"a\"\u001b[0m\u001b[1;33m:\u001b[0m\u001b[1;33m\u001b[0m\u001b[1;33m\u001b[0m\u001b[0m\n\u001b[1;32m--> 177\u001b[1;33m             \u001b[1;32mraise\u001b[0m \u001b[0mValueError\u001b[0m\u001b[1;33m(\u001b[0m\u001b[1;34m\"Append mode is not supported with xlsxwriter!\"\u001b[0m\u001b[1;33m)\u001b[0m\u001b[1;33m\u001b[0m\u001b[1;33m\u001b[0m\u001b[0m\n\u001b[0m\u001b[0;32m    178\u001b[0m \u001b[1;33m\u001b[0m\u001b[0m\n\u001b[0;32m    179\u001b[0m         super().__init__(\n",
      "\u001b[1;31mValueError\u001b[0m: Append mode is not supported with xlsxwriter!"
     ]
    }
   ],
   "source": [
    "df = pd.DataFrame(df1)\n",
    "filepath = r\"D:\\my_excel_file.xlsx\"\n",
    "with pd.ExcelWriter(filepath, mode=\"a\") as writer:\n",
    "    df.to_excel(filepath, index=False)"
   ]
  },
  {
   "cell_type": "markdown",
   "metadata": {},
   "source": [
    "# Added Code "
   ]
  },
  {
   "cell_type": "code",
   "execution_count": 37,
   "metadata": {},
   "outputs": [],
   "source": [
    "# Load in data\n",
    "import pandas as pd\n",
    "import numpy as np\n",
    "\n",
    "data = pd.read_excel(\"test.xlsx\")"
   ]
  },
  {
   "cell_type": "code",
   "execution_count": 38,
   "metadata": {},
   "outputs": [],
   "source": [
    "# Preprocess\n",
    "data = data.drop(\n",
    "    columns=[\n",
    "        \"dtime\",\n",
    "        \"packet_id\",\n",
    "        \"packet_size\",\n",
    "        \"cum_size\",\n",
    "        \"delta_duration\",\n",
    "        \"location_id\",\n",
    "    ]\n",
    ")\n",
    "only10folddata = data[data[\"cum_packets_recv\"] % 10 == 0]\n",
    "datagroup = only10folddata.groupby(\"batch\")"
   ]
  },
  {
   "cell_type": "code",
   "execution_count": null,
   "metadata": {},
   "outputs": [],
   "source": []
  },
  {
   "cell_type": "code",
   "execution_count": 52,
   "metadata": {},
   "outputs": [],
   "source": [
    "# Get groups\n",
    "groups = datagroup.groups.keys()\n",
    "\n",
    "# Create a list to hold our results:\n",
    "output_list = []\n",
    "\n",
    "# perform operations on each group:\n",
    "for group in groups:\n",
    "    df = datagroup.get_group(group)\n",
    "\n",
    "    # Format the df\n",
    "    top_row = pd.DataFrame({\"cum_packets_recv\": [0], \"cum_duration\": [0]})\n",
    "    # Concat with old DataFrame and reset the Index.\n",
    "    df = pd.concat([top_row, df]).reset_index(drop=True)\n",
    "    df[\"cum_duration\"] = pd.to_numeric(df[\"cum_duration\"])\n",
    "\n",
    "    # Get the\n",
    "    difference = df[\"cum_duration\"]\n",
    "    difference = difference.diff(periods=3)\n",
    "    df1 = difference.dropna()\n",
    "\n",
    "    df2 = df1.quantile(0.7)\n",
    "    df1 = df1.to_numpy()\n",
    "    mbps = 1400 * 8 * 30 / df2\n",
    "\n",
    "    output_list.append([group, mbps])"
   ]
  },
  {
   "cell_type": "code",
   "execution_count": 53,
   "metadata": {},
   "outputs": [
    {
     "data": {
      "text/plain": [
       "[[1, 113.211361568786],\n",
       " [2, 113.46368149123695],\n",
       " [3, 98.21689564454837],\n",
       " [4, 118.97174421074996],\n",
       " [5, 96.62947198895664],\n",
       " [6, 113.7479264700904],\n",
       " [7, 85.3398354160317],\n",
       " [8, 113.28388401888064],\n",
       " [9, 108.99182561307902],\n",
       " [10, 105.15773660490743]]"
      ]
     },
     "execution_count": 53,
     "metadata": {},
     "output_type": "execute_result"
    }
   ],
   "source": [
    "output_list"
   ]
  },
  {
   "cell_type": "code",
   "execution_count": 57,
   "metadata": {},
   "outputs": [],
   "source": [
    "# If you want it in a dataframe:\n",
    "output_df = pd.DataFrame(output_list, columns=[\"Batch\", \"mbps\"])"
   ]
  },
  {
   "cell_type": "code",
   "execution_count": 58,
   "metadata": {},
   "outputs": [
    {
     "data": {
      "text/html": [
       "<div>\n",
       "<style scoped>\n",
       "    .dataframe tbody tr th:only-of-type {\n",
       "        vertical-align: middle;\n",
       "    }\n",
       "\n",
       "    .dataframe tbody tr th {\n",
       "        vertical-align: top;\n",
       "    }\n",
       "\n",
       "    .dataframe thead th {\n",
       "        text-align: right;\n",
       "    }\n",
       "</style>\n",
       "<table border=\"1\" class=\"dataframe\">\n",
       "  <thead>\n",
       "    <tr style=\"text-align: right;\">\n",
       "      <th></th>\n",
       "      <th>Batch</th>\n",
       "      <th>mbps</th>\n",
       "    </tr>\n",
       "  </thead>\n",
       "  <tbody>\n",
       "    <tr>\n",
       "      <th>0</th>\n",
       "      <td>1</td>\n",
       "      <td>113.211362</td>\n",
       "    </tr>\n",
       "    <tr>\n",
       "      <th>1</th>\n",
       "      <td>2</td>\n",
       "      <td>113.463681</td>\n",
       "    </tr>\n",
       "    <tr>\n",
       "      <th>2</th>\n",
       "      <td>3</td>\n",
       "      <td>98.216896</td>\n",
       "    </tr>\n",
       "    <tr>\n",
       "      <th>3</th>\n",
       "      <td>4</td>\n",
       "      <td>118.971744</td>\n",
       "    </tr>\n",
       "    <tr>\n",
       "      <th>4</th>\n",
       "      <td>5</td>\n",
       "      <td>96.629472</td>\n",
       "    </tr>\n",
       "    <tr>\n",
       "      <th>5</th>\n",
       "      <td>6</td>\n",
       "      <td>113.747926</td>\n",
       "    </tr>\n",
       "    <tr>\n",
       "      <th>6</th>\n",
       "      <td>7</td>\n",
       "      <td>85.339835</td>\n",
       "    </tr>\n",
       "    <tr>\n",
       "      <th>7</th>\n",
       "      <td>8</td>\n",
       "      <td>113.283884</td>\n",
       "    </tr>\n",
       "    <tr>\n",
       "      <th>8</th>\n",
       "      <td>9</td>\n",
       "      <td>108.991826</td>\n",
       "    </tr>\n",
       "    <tr>\n",
       "      <th>9</th>\n",
       "      <td>10</td>\n",
       "      <td>105.157737</td>\n",
       "    </tr>\n",
       "  </tbody>\n",
       "</table>\n",
       "</div>"
      ],
      "text/plain": [
       "   Batch        mbps\n",
       "0      1  113.211362\n",
       "1      2  113.463681\n",
       "2      3   98.216896\n",
       "3      4  118.971744\n",
       "4      5   96.629472\n",
       "5      6  113.747926\n",
       "6      7   85.339835\n",
       "7      8  113.283884\n",
       "8      9  108.991826\n",
       "9     10  105.157737"
      ]
     },
     "execution_count": 58,
     "metadata": {},
     "output_type": "execute_result"
    }
   ],
   "source": [
    "output_df"
   ]
  },
  {
   "cell_type": "code",
   "execution_count": null,
   "metadata": {},
   "outputs": [],
   "source": []
  }
 ],
 "metadata": {
  "kernelspec": {
   "display_name": "Python 3",
   "language": "python",
   "name": "python3"
  },
  "language_info": {
   "codemirror_mode": {
    "name": "ipython",
    "version": 3
   },
   "file_extension": ".py",
   "mimetype": "text/x-python",
   "name": "python",
   "nbconvert_exporter": "python",
   "pygments_lexer": "ipython3",
   "version": "3.7.6"
  }
 },
 "nbformat": 4,
 "nbformat_minor": 4
}
