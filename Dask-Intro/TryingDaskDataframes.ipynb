{
 "cells": [
  {
   "cell_type": "markdown",
   "metadata": {
    "application/vnd.databricks.v1+cell": {
     "inputWidgets": {},
     "nuid": "5b1b7b99-f605-44c3-87a6-e9f851a43e09",
     "showTitle": false,
     "title": ""
    }
   },
   "source": [
    "# Introduction to Dask Dataframe operations.\n",
    "\n",
    "### Dask is a library you use in place of pandas that switches the functions to \n",
    "### one that can scale out and run in parallel.\n",
    "\n",
    "### Documentation \n",
    "https://docs.dask.org/en/latest/install.html"
   ]
  },
  {
   "cell_type": "markdown",
   "metadata": {
    "application/vnd.databricks.v1+cell": {
     "inputWidgets": {},
     "nuid": "f8a858aa-effb-4f8d-a0f0-1ced9d0235bc",
     "showTitle": false,
     "title": ""
    }
   },
   "source": [
    "<div style=\"background-color:darkblue; text-align:left; vertical-align: top;\">\n",
    "<span style=\"color:white\">\n",
    "<h3>What is Dask? </h3><br>\n",
    "    \n",
    "- Dask is a flexible library for parallel computing in Python. <br>\n",
    "- Dask dataframes do NOT need to fit into memory and Dask can work on a single machine or scale out to many machines. <br>\n",
    "- Arguably, Dask fills the gap between pandas and Apache Spark.  When your data gets to large for pandas, often Dask can support it without going to Spark. <br>\n",
    "- Very actively maintained!!! <br>\n",
    "- Can work on local machine and scale up to Cloud when needed. <br>\n",
    " </span>\n",
    "</div>"
   ]
  },
  {
   "cell_type": "markdown",
   "metadata": {},
   "source": [
    "#### On a Single Machine, Will Dask Spill Data (page out) if needed?\n",
    "\n",
    "Dask.dataframe loads data lazily and attempts to perform your entire computation in one linear scan through the dataset. Surprisingly, this is usually doable.\n",
    "\n",
    "Intelligently dumping down to disk is also an option that it can manage, especially when shuffles are required, but generally there are ways around this.\n",
    "\n",
    "https://stackoverflow.com/questions/36269461/how-do-dask-dataframes-handle-larger-than-memory-datasets"
   ]
  },
  {
   "cell_type": "markdown",
   "metadata": {},
   "source": [
    "### Is Dask Similar to Koalas?\n",
    "\n",
    "- Yes but Dask is 100% Python for Python developers and does not need Apache Spark.  \n",
    "- Koalas is only for Apache Spark."
   ]
  },
  {
   "cell_type": "markdown",
   "metadata": {
    "application/vnd.databricks.v1+cell": {
     "inputWidgets": {},
     "nuid": "55268a3e-ddef-4623-b22e-9cdda6d09a96",
     "showTitle": false,
     "title": ""
    }
   },
   "source": [
    "### What is NOT supported? \n",
    "- No definitive list but new features always being added."
   ]
  },
  {
   "cell_type": "markdown",
   "metadata": {},
   "source": [
    "#### **Lessons Learned:**\n",
    "#### - When Dask returns results from Dask dataframe operations, it is as a pandas dataframe.\n",
    "#### - Dask uses lazy excution by default and you need to force execution.\n",
    "#### - Syntax changes are needed from some operations that seem very basic."
   ]
  },
  {
   "cell_type": "markdown",
   "metadata": {},
   "source": [
    "### Dask vs. Apache Spark\n",
    "- Dask is much easier to initially set up and use. Clusters?  Yet to find out. \n",
    "- Dask is Python only.\n",
    "- Dask is ideal for medium workloads esp. if you don't want to invest the time and effort of setting up and using Spark.\n",
    "- Dask is general purpose whereas Apache Spark is more SQL and ETL focused.  \n",
    "- Maybe best path is: pandas -> Dask -> Spark\n",
    "- Cloud Only - Databricks may be the best option"
   ]
  },
  {
   "cell_type": "markdown",
   "metadata": {
    "application/vnd.databricks.v1+cell": {
     "inputWidgets": {},
     "nuid": "775000b3-cbac-4e9f-80f5-61252a411666",
     "showTitle": false,
     "title": ""
    }
   },
   "source": [
    "### Some migration notes: \n",
    "- Be sure to change any pandas module prefix to the Dask, i.e. pd. to dd.\n",
    "- Be careful to change all pandas dataframe names to the correct dask dataframe names!\n",
    "- Syntax changes may be required."
   ]
  },
  {
   "cell_type": "markdown",
   "metadata": {},
   "source": [
    "### Installing Dask\n",
    "\n",
    "If using Conda,\n",
    "```python\n",
    "conda install dask\n",
    "```\n",
    "\n",
    "or install with pip,\n",
    "```python\n",
    "python -m pip install \"dask[complete]\"\n",
    "```"
   ]
  },
  {
   "cell_type": "markdown",
   "metadata": {
    "application/vnd.databricks.v1+cell": {
     "inputWidgets": {},
     "nuid": "61bc411d-ce1f-4d20-a130-f018e0ef2a69",
     "showTitle": false,
     "title": ""
    }
   },
   "source": [
    "### Let's do the Arrrrgh Test!  Does it work?"
   ]
  },
  {
   "cell_type": "markdown",
   "metadata": {
    "application/vnd.databricks.v1+cell": {
     "inputWidgets": {},
     "nuid": "170faa01-dc6e-4f4d-82a2-a029d27b9469",
     "showTitle": false,
     "title": ""
    }
   },
   "source": [
    "### Code Example 01 - pandas - Load pandas and numpy"
   ]
  },
  {
   "cell_type": "code",
   "execution_count": 1,
   "metadata": {
    "application/vnd.databricks.v1+cell": {
     "inputWidgets": {},
     "nuid": "d8fdcea0-d6b9-43f3-a79e-bceb524f6633",
     "showTitle": true,
     "title": "Code Example 01 - Let's get the Python libraries we need..."
    }
   },
   "outputs": [],
   "source": [
    "import pandas as pd\n",
    "import numpy as np\n",
    "import matplotlib as plt\n",
    "\n",
    "%matplotlib notebook"
   ]
  },
  {
   "cell_type": "markdown",
   "metadata": {},
   "source": [
    "### Code Example 02 - Dask - Load dask modules."
   ]
  },
  {
   "cell_type": "code",
   "execution_count": 2,
   "metadata": {
    "application/vnd.databricks.v1+cell": {
     "inputWidgets": {},
     "nuid": "32f76ade-b636-4e0c-9ff2-51f01ba20746",
     "showTitle": true,
     "title": "Code Example 02 - As requested in the error message, change %matplotlib notebook to %matplotlib inline "
    }
   },
   "outputs": [],
   "source": [
    "import dask.dataframe as dd"
   ]
  },
  {
   "cell_type": "markdown",
   "metadata": {
    "application/vnd.databricks.v1+cell": {
     "inputWidgets": {},
     "nuid": "07d4b9f6-3ab3-4653-89e0-a270a127aa2f",
     "showTitle": false,
     "title": ""
    }
   },
   "source": [
    "### List files in the ..\\Data folder that start with aw and have a csv file extension.  Notice I'm not using the magic command prefix."
   ]
  },
  {
   "cell_type": "code",
   "execution_count": 3,
   "metadata": {
    "application/vnd.databricks.v1+cell": {
     "inputWidgets": {},
     "nuid": "4cd03609-8a2a-4b85-adb2-e46face89d17",
     "showTitle": true,
     "title": "Code Example 04 - List files in our data folder"
    }
   },
   "outputs": [
    {
     "name": "stdout",
     "output_type": "stream",
     "text": [
      " Volume in drive C is Windows\n",
      " Volume Serial Number is 48B6-B6D5\n",
      "\n",
      " Directory of c:\\Users\\hetia\\Desktop\\DaskIntro\\DaskIntro\n",
      "\n",
      "2022/05/23  12:56    <DIR>          .\n",
      "2022/05/23  12:56    <DIR>          ..\n",
      "2022/05/23  12:56        11,721,072 FactInternetSales.csv\n",
      "2022/05/23  12:56                13 jl.bat\n",
      "2022/05/23  13:13           104,428 TryingDaskDataframes.ipynb\n",
      "               3 File(s)     11,825,513 bytes\n",
      "               2 Dir(s)  53,252,313,088 bytes free\n"
     ]
    }
   ],
   "source": [
    "ls"
   ]
  },
  {
   "cell_type": "markdown",
   "metadata": {
    "application/vnd.databricks.v1+cell": {
     "inputWidgets": {},
     "nuid": "5c780263-73dd-4341-974d-239c03d79a7f",
     "showTitle": false,
     "title": ""
    }
   },
   "source": [
    "## Comparing pandas to Dask.  Are they identical?"
   ]
  },
  {
   "cell_type": "markdown",
   "metadata": {},
   "source": [
    "### Code Example 03 - Dask - Code Completion"
   ]
  },
  {
   "cell_type": "code",
   "execution_count": 4,
   "metadata": {
    "application/vnd.databricks.v1+cell": {
     "inputWidgets": {},
     "nuid": "dcbdc617-5e3e-4e79-8f07-ae7e9cacdf0c",
     "showTitle": true,
     "title": "Code Example 05 - koalas tab complete"
    }
   },
   "outputs": [
    {
     "ename": "AttributeError",
     "evalue": "module 'dask.dataframe' has no attribute 'read_'",
     "output_type": "error",
     "traceback": [
      "\u001b[1;31m---------------------------------------------------------------------------\u001b[0m",
      "\u001b[1;31mAttributeError\u001b[0m                            Traceback (most recent call last)",
      "\u001b[1;32m~\\AppData\\Local\\Temp/ipykernel_21292/612709955.py\u001b[0m in \u001b[0;36m<module>\u001b[1;34m\u001b[0m\n\u001b[1;32m----> 1\u001b[1;33m \u001b[0mdd\u001b[0m\u001b[1;33m.\u001b[0m\u001b[0mread_\u001b[0m\u001b[1;33m\u001b[0m\u001b[1;33m\u001b[0m\u001b[0m\n\u001b[0m",
      "\u001b[1;31mAttributeError\u001b[0m: module 'dask.dataframe' has no attribute 'read_'"
     ]
    }
   ],
   "source": [
    "dd.read_"
   ]
  },
  {
   "cell_type": "markdown",
   "metadata": {},
   "source": [
    "### Code Example 04 - Dask - Getting Help"
   ]
  },
  {
   "cell_type": "code",
   "execution_count": 5,
   "metadata": {
    "application/vnd.databricks.v1+cell": {
     "inputWidgets": {},
     "nuid": "41bae7b2-70ae-4a7c-b93a-650f57f0f6a8",
     "showTitle": false,
     "title": ""
    }
   },
   "outputs": [
    {
     "name": "stdout",
     "output_type": "stream",
     "text": [
      "Help on package dask.dataframe in dask:\n",
      "\n",
      "NAME\n",
      "    dask.dataframe\n",
      "\n",
      "PACKAGE CONTENTS\n",
      "    _compat\n",
      "    _dtypes\n",
      "    accessor\n",
      "    backends\n",
      "    categorical\n",
      "    core\n",
      "    dispatch\n",
      "    extensions\n",
      "    groupby\n",
      "    hyperloglog\n",
      "    indexing\n",
      "    io (package)\n",
      "    methods\n",
      "    multi\n",
      "    numeric\n",
      "    optimize\n",
      "    partitionquantiles\n",
      "    reshape\n",
      "    rolling\n",
      "    shuffle\n",
      "    tests (package)\n",
      "    tseries (package)\n",
      "    utils\n",
      "\n",
      "SUBMODULES\n",
      "    demo\n",
      "\n",
      "FILE\n",
      "    c:\\users\\hetia\\appdata\\local\\programs\\python\\python39\\lib\\site-packages\\dask\\dataframe\\__init__.py\n",
      "\n",
      "\n"
     ]
    }
   ],
   "source": [
    "help(dd)"
   ]
  },
  {
   "cell_type": "markdown",
   "metadata": {},
   "source": [
    "### Code Example 05 - Dask - Getting help on functions "
   ]
  },
  {
   "cell_type": "code",
   "execution_count": 6,
   "metadata": {
    "application/vnd.databricks.v1+cell": {
     "inputWidgets": {},
     "nuid": "5a45fa35-9bb6-4dac-9f1f-ce0ba5f6b3b5",
     "showTitle": false,
     "title": ""
    }
   },
   "outputs": [
    {
     "name": "stdout",
     "output_type": "stream",
     "text": [
      "Help on function read_csv in module dask.dataframe.io.csv:\n",
      "\n",
      "read_csv(urlpath, blocksize='default', lineterminator=None, compression='infer', sample=256000, sample_rows=10, enforce=False, assume_missing=False, storage_options=None, include_path_column=False, **kwargs)\n",
      "    Read CSV files into a Dask.DataFrame\n",
      "    \n",
      "    This parallelizes the :func:`pandas.read_csv` function in the following ways:\n",
      "    \n",
      "    - It supports loading many files at once using globstrings:\n",
      "    \n",
      "        >>> df = dd.read_csv('myfiles.*.csv')  # doctest: +SKIP\n",
      "    \n",
      "    - In some cases it can break up large files:\n",
      "    \n",
      "        >>> df = dd.read_csv('largefile.csv', blocksize=25e6)  # 25MB chunks  # doctest: +SKIP\n",
      "    \n",
      "    - It can read CSV files from external resources (e.g. S3, HDFS) by\n",
      "      providing a URL:\n",
      "    \n",
      "        >>> df = dd.read_csv('s3://bucket/myfiles.*.csv')  # doctest: +SKIP\n",
      "        >>> df = dd.read_csv('hdfs:///myfiles.*.csv')  # doctest: +SKIP\n",
      "        >>> df = dd.read_csv('hdfs://namenode.example.com/myfiles.*.csv')  # doctest: +SKIP\n",
      "    \n",
      "    Internally ``dd.read_csv`` uses :func:`pandas.read_csv` and supports many of the\n",
      "    same keyword arguments with the same performance guarantees. See the docstring\n",
      "    for :func:`pandas.read_csv` for more information on available keyword arguments.\n",
      "    \n",
      "    Parameters\n",
      "    ----------\n",
      "    urlpath : string or list\n",
      "        Absolute or relative filepath(s). Prefix with a protocol like ``s3://``\n",
      "        to read from alternative filesystems. To read from multiple files you\n",
      "        can pass a globstring or a list of paths, with the caveat that they\n",
      "        must all have the same protocol.\n",
      "    blocksize : str, int or None, optional\n",
      "        Number of bytes by which to cut up larger files. Default value is computed\n",
      "        based on available physical memory and the number of cores, up to a maximum\n",
      "        of 64MB. Can be a number like ``64000000`` or a string like ``\"64MB\"``. If\n",
      "        ``None``, a single block is used for each file.\n",
      "    sample : int, optional\n",
      "        Number of bytes to use when determining dtypes\n",
      "    assume_missing : bool, optional\n",
      "        If True, all integer columns that aren't specified in ``dtype`` are assumed\n",
      "        to contain missing values, and are converted to floats. Default is False.\n",
      "    storage_options : dict, optional\n",
      "        Extra options that make sense for a particular storage connection, e.g.\n",
      "        host, port, username, password, etc.\n",
      "    include_path_column : bool or str, optional\n",
      "        Whether or not to include the path to each particular file. If True a new\n",
      "        column is added to the dataframe called ``path``. If str, sets new column\n",
      "        name. Default is False.\n",
      "    **kwargs\n",
      "        Extra keyword arguments to forward to :func:`pandas.read_csv`.\n",
      "    \n",
      "    Notes\n",
      "    -----\n",
      "    Dask dataframe tries to infer the ``dtype`` of each column by reading a sample\n",
      "    from the start of the file (or of the first file if it's a glob). Usually this\n",
      "    works fine, but if the ``dtype`` is different later in the file (or in other\n",
      "    files) this can cause issues. For example, if all the rows in the sample had\n",
      "    integer dtypes, but later on there was a ``NaN``, then this would error at\n",
      "    compute time. To fix this, you have a few options:\n",
      "    \n",
      "    - Provide explicit dtypes for the offending columns using the ``dtype``\n",
      "      keyword. This is the recommended solution.\n",
      "    \n",
      "    - Use the ``assume_missing`` keyword to assume that all columns inferred as\n",
      "      integers contain missing values, and convert them to floats.\n",
      "    \n",
      "    - Increase the size of the sample using the ``sample`` keyword.\n",
      "    \n",
      "    It should also be noted that this function may fail if a CSV file\n",
      "    includes quoted strings that contain the line terminator. To get around this\n",
      "    you can specify ``blocksize=None`` to not split files into multiple partitions,\n",
      "    at the cost of reduced parallelism.\n",
      "\n"
     ]
    }
   ],
   "source": [
    "help(dd.read_csv)"
   ]
  },
  {
   "cell_type": "markdown",
   "metadata": {
    "application/vnd.databricks.v1+cell": {
     "inputWidgets": {},
     "nuid": "e5b0b0a1-6a15-4f59-b617-0fd3c246732b",
     "showTitle": false,
     "title": ""
    }
   },
   "source": [
    "###     Dataframes..."
   ]
  },
  {
   "cell_type": "markdown",
   "metadata": {},
   "source": [
    "### Code Example 06 - pandas - Load a CSV file"
   ]
  },
  {
   "cell_type": "code",
   "execution_count": 7,
   "metadata": {
    "application/vnd.databricks.v1+cell": {
     "inputWidgets": {},
     "nuid": "d85a77cd-0069-442d-9a5f-88c8329dc847",
     "showTitle": true,
     "title": "Code Example 06 - Load a file into a pandas dataframe, note path has /dbfs/ not dbfs:"
    }
   },
   "outputs": [],
   "source": [
    "pdf_sales = pd.read_csv(\"FactInternetSales.csv\", nrows=2000)"
   ]
  },
  {
   "cell_type": "markdown",
   "metadata": {},
   "source": [
    "### Code Example 07 - Dask - Load a CSV file using nrows"
   ]
  },
  {
   "cell_type": "code",
   "execution_count": 8,
   "metadata": {
    "application/vnd.databricks.v1+cell": {
     "inputWidgets": {},
     "nuid": "79f5f7b7-8bc8-46cf-ab97-e1d88e8e1f76",
     "showTitle": true,
     "title": "Code Example 07 - Load a file into a koalas dataframe, we get an error"
    }
   },
   "outputs": [
    {
     "ename": "ValueError",
     "evalue": "The 'nrows' keyword is not supported by `dd.read_csv`. To achieve the same behavior, it's recommended to use `dd.read_csv(...).head(n=nrows)`",
     "output_type": "error",
     "traceback": [
      "\u001b[1;31m---------------------------------------------------------------------------\u001b[0m",
      "\u001b[1;31mValueError\u001b[0m                                Traceback (most recent call last)",
      "\u001b[1;32m~\\AppData\\Local\\Temp/ipykernel_21292/3153333458.py\u001b[0m in \u001b[0;36m<module>\u001b[1;34m\u001b[0m\n\u001b[0;32m      1\u001b[0m \u001b[1;31m# Note:  nrows is not supported in Dask\u001b[0m\u001b[1;33m\u001b[0m\u001b[1;33m\u001b[0m\u001b[0m\n\u001b[1;32m----> 2\u001b[1;33m \u001b[0mddf_sales\u001b[0m \u001b[1;33m=\u001b[0m \u001b[0mdd\u001b[0m\u001b[1;33m.\u001b[0m\u001b[0mread_csv\u001b[0m\u001b[1;33m(\u001b[0m\u001b[1;34m'FactInternetSales.csv'\u001b[0m\u001b[1;33m,\u001b[0m \u001b[0mnrows\u001b[0m\u001b[1;33m=\u001b[0m\u001b[1;36m2000\u001b[0m\u001b[1;33m)\u001b[0m\u001b[1;33m\u001b[0m\u001b[1;33m\u001b[0m\u001b[0m\n\u001b[0m",
      "\u001b[1;32mc:\\Users\\hetia\\AppData\\Local\\Programs\\Python\\Python39\\lib\\site-packages\\dask\\dataframe\\io\\csv.py\u001b[0m in \u001b[0;36mread\u001b[1;34m(urlpath, blocksize, lineterminator, compression, sample, sample_rows, enforce, assume_missing, storage_options, include_path_column, **kwargs)\u001b[0m\n\u001b[0;32m    744\u001b[0m         \u001b[1;33m**\u001b[0m\u001b[0mkwargs\u001b[0m\u001b[1;33m,\u001b[0m\u001b[1;33m\u001b[0m\u001b[1;33m\u001b[0m\u001b[0m\n\u001b[0;32m    745\u001b[0m     ):\n\u001b[1;32m--> 746\u001b[1;33m         return read_pandas(\n\u001b[0m\u001b[0;32m    747\u001b[0m             \u001b[0mreader\u001b[0m\u001b[1;33m,\u001b[0m\u001b[1;33m\u001b[0m\u001b[1;33m\u001b[0m\u001b[0m\n\u001b[0;32m    748\u001b[0m             \u001b[0murlpath\u001b[0m\u001b[1;33m,\u001b[0m\u001b[1;33m\u001b[0m\u001b[1;33m\u001b[0m\u001b[0m\n",
      "\u001b[1;32mc:\\Users\\hetia\\AppData\\Local\\Programs\\Python\\Python39\\lib\\site-packages\\dask\\dataframe\\io\\csv.py\u001b[0m in \u001b[0;36mread_pandas\u001b[1;34m(reader, urlpath, blocksize, lineterminator, compression, sample, sample_rows, enforce, assume_missing, storage_options, include_path_column, **kwargs)\u001b[0m\n\u001b[0;32m    485\u001b[0m             \u001b[1;32mraise\u001b[0m \u001b[0mValueError\u001b[0m\u001b[1;33m(\u001b[0m\u001b[1;34mf\"{kw} not supported for dd.{reader_name}\"\u001b[0m\u001b[1;33m)\u001b[0m\u001b[1;33m\u001b[0m\u001b[1;33m\u001b[0m\u001b[0m\n\u001b[0;32m    486\u001b[0m     \u001b[1;32mif\u001b[0m \u001b[0mkwargs\u001b[0m\u001b[1;33m.\u001b[0m\u001b[0mget\u001b[0m\u001b[1;33m(\u001b[0m\u001b[1;34m\"nrows\"\u001b[0m\u001b[1;33m,\u001b[0m \u001b[1;32mNone\u001b[0m\u001b[1;33m)\u001b[0m\u001b[1;33m:\u001b[0m\u001b[1;33m\u001b[0m\u001b[1;33m\u001b[0m\u001b[0m\n\u001b[1;32m--> 487\u001b[1;33m         raise ValueError(\n\u001b[0m\u001b[0;32m    488\u001b[0m             \u001b[1;34m\"The 'nrows' keyword is not supported by \"\u001b[0m\u001b[1;33m\u001b[0m\u001b[1;33m\u001b[0m\u001b[0m\n\u001b[0;32m    489\u001b[0m             \u001b[1;34m\"`dd.{0}`. To achieve the same behavior, it's \"\u001b[0m\u001b[1;33m\u001b[0m\u001b[1;33m\u001b[0m\u001b[0m\n",
      "\u001b[1;31mValueError\u001b[0m: The 'nrows' keyword is not supported by `dd.read_csv`. To achieve the same behavior, it's recommended to use `dd.read_csv(...).head(n=nrows)`"
     ]
    }
   ],
   "source": [
    "# Note:  nrows is not supported in Dask\n",
    "ddf_sales = dd.read_csv(\"FactInternetSales.csv\", nrows=2000)"
   ]
  },
  {
   "cell_type": "markdown",
   "metadata": {},
   "source": [
    "### Code Example 08 - Dask - Load a CSV file using head() and n=) to limit rows."
   ]
  },
  {
   "cell_type": "code",
   "execution_count": 9,
   "metadata": {
    "application/vnd.databricks.v1+cell": {
     "inputWidgets": {},
     "nuid": "bebf8e53-dca2-46f5-b8e9-2ce9debf5674",
     "showTitle": true,
     "title": "Code Example 08 - Load a file into a koalas dataframe - after fixing the path spec"
    }
   },
   "outputs": [],
   "source": [
    "ddf_sales = dd.read_csv(\"FactInternetSales.csv\").head(n=2000)"
   ]
  },
  {
   "cell_type": "markdown",
   "metadata": {},
   "source": [
    "### Code Example 09 - Dask - Load a CSV file - all rows"
   ]
  },
  {
   "cell_type": "code",
   "execution_count": 10,
   "metadata": {},
   "outputs": [],
   "source": [
    "ddf_sales = dd.read_csv(\"FactInternetSales.csv\")"
   ]
  },
  {
   "cell_type": "markdown",
   "metadata": {},
   "source": [
    "### Code Example 10 - Dask - Display a dataframe"
   ]
  },
  {
   "cell_type": "code",
   "execution_count": 11,
   "metadata": {},
   "outputs": [
    {
     "data": {
      "text/html": [
       "<div><strong>Dask DataFrame Structure:</strong></div>\n",
       "<div>\n",
       "<style scoped>\n",
       "    .dataframe tbody tr th:only-of-type {\n",
       "        vertical-align: middle;\n",
       "    }\n",
       "\n",
       "    .dataframe tbody tr th {\n",
       "        vertical-align: top;\n",
       "    }\n",
       "\n",
       "    .dataframe thead th {\n",
       "        text-align: right;\n",
       "    }\n",
       "</style>\n",
       "<table border=\"1\" class=\"dataframe\">\n",
       "  <thead>\n",
       "    <tr style=\"text-align: right;\">\n",
       "      <th></th>\n",
       "      <th>ProductKey</th>\n",
       "      <th>OrderDateKey</th>\n",
       "      <th>DueDateKey</th>\n",
       "      <th>ShipDateKey</th>\n",
       "      <th>CustomerKey</th>\n",
       "      <th>PromotionKey</th>\n",
       "      <th>CurrencyKey</th>\n",
       "      <th>SalesTerritoryKey</th>\n",
       "      <th>SalesOrderNumber</th>\n",
       "      <th>SalesOrderLineNumber</th>\n",
       "      <th>RevisionNumber</th>\n",
       "      <th>OrderQuantity</th>\n",
       "      <th>UnitPrice</th>\n",
       "      <th>ExtendedAmount</th>\n",
       "      <th>UnitPriceDiscountPct</th>\n",
       "      <th>DiscountAmount</th>\n",
       "      <th>ProductStandardCost</th>\n",
       "      <th>TotalProductCost</th>\n",
       "      <th>SalesAmount</th>\n",
       "      <th>TaxAmt</th>\n",
       "      <th>Freight</th>\n",
       "      <th>CarrierTrackingNumber</th>\n",
       "      <th>CustomerPONumber</th>\n",
       "      <th>OrderDate</th>\n",
       "      <th>DueDate</th>\n",
       "      <th>ShipDate</th>\n",
       "    </tr>\n",
       "    <tr>\n",
       "      <th>npartitions=1</th>\n",
       "      <th></th>\n",
       "      <th></th>\n",
       "      <th></th>\n",
       "      <th></th>\n",
       "      <th></th>\n",
       "      <th></th>\n",
       "      <th></th>\n",
       "      <th></th>\n",
       "      <th></th>\n",
       "      <th></th>\n",
       "      <th></th>\n",
       "      <th></th>\n",
       "      <th></th>\n",
       "      <th></th>\n",
       "      <th></th>\n",
       "      <th></th>\n",
       "      <th></th>\n",
       "      <th></th>\n",
       "      <th></th>\n",
       "      <th></th>\n",
       "      <th></th>\n",
       "      <th></th>\n",
       "      <th></th>\n",
       "      <th></th>\n",
       "      <th></th>\n",
       "      <th></th>\n",
       "    </tr>\n",
       "  </thead>\n",
       "  <tbody>\n",
       "    <tr>\n",
       "      <th></th>\n",
       "      <td>int64</td>\n",
       "      <td>int64</td>\n",
       "      <td>int64</td>\n",
       "      <td>int64</td>\n",
       "      <td>int64</td>\n",
       "      <td>int64</td>\n",
       "      <td>int64</td>\n",
       "      <td>int64</td>\n",
       "      <td>object</td>\n",
       "      <td>int64</td>\n",
       "      <td>int64</td>\n",
       "      <td>int64</td>\n",
       "      <td>float64</td>\n",
       "      <td>float64</td>\n",
       "      <td>int64</td>\n",
       "      <td>int64</td>\n",
       "      <td>float64</td>\n",
       "      <td>float64</td>\n",
       "      <td>float64</td>\n",
       "      <td>float64</td>\n",
       "      <td>float64</td>\n",
       "      <td>float64</td>\n",
       "      <td>float64</td>\n",
       "      <td>object</td>\n",
       "      <td>object</td>\n",
       "      <td>object</td>\n",
       "    </tr>\n",
       "    <tr>\n",
       "      <th></th>\n",
       "      <td>...</td>\n",
       "      <td>...</td>\n",
       "      <td>...</td>\n",
       "      <td>...</td>\n",
       "      <td>...</td>\n",
       "      <td>...</td>\n",
       "      <td>...</td>\n",
       "      <td>...</td>\n",
       "      <td>...</td>\n",
       "      <td>...</td>\n",
       "      <td>...</td>\n",
       "      <td>...</td>\n",
       "      <td>...</td>\n",
       "      <td>...</td>\n",
       "      <td>...</td>\n",
       "      <td>...</td>\n",
       "      <td>...</td>\n",
       "      <td>...</td>\n",
       "      <td>...</td>\n",
       "      <td>...</td>\n",
       "      <td>...</td>\n",
       "      <td>...</td>\n",
       "      <td>...</td>\n",
       "      <td>...</td>\n",
       "      <td>...</td>\n",
       "      <td>...</td>\n",
       "    </tr>\n",
       "  </tbody>\n",
       "</table>\n",
       "</div>\n",
       "<div>Dask Name: read-csv, 1 tasks</div>"
      ],
      "text/plain": [
       "Dask DataFrame Structure:\n",
       "              ProductKey OrderDateKey DueDateKey ShipDateKey CustomerKey PromotionKey CurrencyKey SalesTerritoryKey SalesOrderNumber SalesOrderLineNumber RevisionNumber OrderQuantity UnitPrice ExtendedAmount UnitPriceDiscountPct DiscountAmount ProductStandardCost TotalProductCost SalesAmount   TaxAmt  Freight CarrierTrackingNumber CustomerPONumber OrderDate DueDate ShipDate\n",
       "npartitions=1                                                                                                                                                                                                                                                                                                                                                                           \n",
       "                   int64        int64      int64       int64       int64        int64       int64             int64           object                int64          int64         int64   float64        float64                int64          int64             float64          float64     float64  float64  float64               float64          float64    object  object   object\n",
       "                     ...          ...        ...         ...         ...          ...         ...               ...              ...                  ...            ...           ...       ...            ...                  ...            ...                 ...              ...         ...      ...      ...                   ...              ...       ...     ...      ...\n",
       "Dask Name: read-csv, 1 tasks"
      ]
     },
     "execution_count": 11,
     "metadata": {},
     "output_type": "execute_result"
    }
   ],
   "source": [
    "ddf_sales"
   ]
  },
  {
   "cell_type": "markdown",
   "metadata": {},
   "source": [
    "### Code Example 11 - Dask - Use head() to force compute and show some rows."
   ]
  },
  {
   "cell_type": "code",
   "execution_count": 12,
   "metadata": {},
   "outputs": [
    {
     "data": {
      "text/html": [
       "<div>\n",
       "<style scoped>\n",
       "    .dataframe tbody tr th:only-of-type {\n",
       "        vertical-align: middle;\n",
       "    }\n",
       "\n",
       "    .dataframe tbody tr th {\n",
       "        vertical-align: top;\n",
       "    }\n",
       "\n",
       "    .dataframe thead th {\n",
       "        text-align: right;\n",
       "    }\n",
       "</style>\n",
       "<table border=\"1\" class=\"dataframe\">\n",
       "  <thead>\n",
       "    <tr style=\"text-align: right;\">\n",
       "      <th></th>\n",
       "      <th>ProductKey</th>\n",
       "      <th>OrderDateKey</th>\n",
       "      <th>DueDateKey</th>\n",
       "      <th>ShipDateKey</th>\n",
       "      <th>CustomerKey</th>\n",
       "      <th>PromotionKey</th>\n",
       "      <th>CurrencyKey</th>\n",
       "      <th>SalesTerritoryKey</th>\n",
       "      <th>SalesOrderNumber</th>\n",
       "      <th>SalesOrderLineNumber</th>\n",
       "      <th>...</th>\n",
       "      <th>ProductStandardCost</th>\n",
       "      <th>TotalProductCost</th>\n",
       "      <th>SalesAmount</th>\n",
       "      <th>TaxAmt</th>\n",
       "      <th>Freight</th>\n",
       "      <th>CarrierTrackingNumber</th>\n",
       "      <th>CustomerPONumber</th>\n",
       "      <th>OrderDate</th>\n",
       "      <th>DueDate</th>\n",
       "      <th>ShipDate</th>\n",
       "    </tr>\n",
       "  </thead>\n",
       "  <tbody>\n",
       "    <tr>\n",
       "      <th>0</th>\n",
       "      <td>310</td>\n",
       "      <td>20101229</td>\n",
       "      <td>20110110</td>\n",
       "      <td>20110105</td>\n",
       "      <td>21768</td>\n",
       "      <td>1</td>\n",
       "      <td>19</td>\n",
       "      <td>6</td>\n",
       "      <td>SO43697</td>\n",
       "      <td>1</td>\n",
       "      <td>...</td>\n",
       "      <td>2171.2942</td>\n",
       "      <td>2171.2942</td>\n",
       "      <td>3578.27</td>\n",
       "      <td>286.2616</td>\n",
       "      <td>89.4568</td>\n",
       "      <td>NaN</td>\n",
       "      <td>NaN</td>\n",
       "      <td>2010-12-29 00:00:00.000</td>\n",
       "      <td>2011-01-10 00:00:00.000</td>\n",
       "      <td>2011-01-05 00:00:00.000</td>\n",
       "    </tr>\n",
       "    <tr>\n",
       "      <th>1</th>\n",
       "      <td>346</td>\n",
       "      <td>20101229</td>\n",
       "      <td>20110110</td>\n",
       "      <td>20110105</td>\n",
       "      <td>28389</td>\n",
       "      <td>1</td>\n",
       "      <td>39</td>\n",
       "      <td>7</td>\n",
       "      <td>SO43698</td>\n",
       "      <td>1</td>\n",
       "      <td>...</td>\n",
       "      <td>1912.1544</td>\n",
       "      <td>1912.1544</td>\n",
       "      <td>3399.99</td>\n",
       "      <td>271.9992</td>\n",
       "      <td>84.9998</td>\n",
       "      <td>NaN</td>\n",
       "      <td>NaN</td>\n",
       "      <td>2010-12-29 00:00:00.000</td>\n",
       "      <td>2011-01-10 00:00:00.000</td>\n",
       "      <td>2011-01-05 00:00:00.000</td>\n",
       "    </tr>\n",
       "    <tr>\n",
       "      <th>2</th>\n",
       "      <td>346</td>\n",
       "      <td>20101229</td>\n",
       "      <td>20110110</td>\n",
       "      <td>20110105</td>\n",
       "      <td>25863</td>\n",
       "      <td>1</td>\n",
       "      <td>100</td>\n",
       "      <td>1</td>\n",
       "      <td>SO43699</td>\n",
       "      <td>1</td>\n",
       "      <td>...</td>\n",
       "      <td>1912.1544</td>\n",
       "      <td>1912.1544</td>\n",
       "      <td>3399.99</td>\n",
       "      <td>271.9992</td>\n",
       "      <td>84.9998</td>\n",
       "      <td>NaN</td>\n",
       "      <td>NaN</td>\n",
       "      <td>2010-12-29 00:00:00.000</td>\n",
       "      <td>2011-01-10 00:00:00.000</td>\n",
       "      <td>2011-01-05 00:00:00.000</td>\n",
       "    </tr>\n",
       "  </tbody>\n",
       "</table>\n",
       "<p>3 rows × 26 columns</p>\n",
       "</div>"
      ],
      "text/plain": [
       "   ProductKey  OrderDateKey  DueDateKey  ShipDateKey  CustomerKey  \\\n",
       "0         310      20101229    20110110     20110105        21768   \n",
       "1         346      20101229    20110110     20110105        28389   \n",
       "2         346      20101229    20110110     20110105        25863   \n",
       "\n",
       "   PromotionKey  CurrencyKey  SalesTerritoryKey SalesOrderNumber  \\\n",
       "0             1           19                  6          SO43697   \n",
       "1             1           39                  7          SO43698   \n",
       "2             1          100                  1          SO43699   \n",
       "\n",
       "   SalesOrderLineNumber  ...  ProductStandardCost  TotalProductCost  \\\n",
       "0                     1  ...            2171.2942         2171.2942   \n",
       "1                     1  ...            1912.1544         1912.1544   \n",
       "2                     1  ...            1912.1544         1912.1544   \n",
       "\n",
       "   SalesAmount    TaxAmt  Freight  CarrierTrackingNumber  CustomerPONumber  \\\n",
       "0      3578.27  286.2616  89.4568                    NaN               NaN   \n",
       "1      3399.99  271.9992  84.9998                    NaN               NaN   \n",
       "2      3399.99  271.9992  84.9998                    NaN               NaN   \n",
       "\n",
       "                 OrderDate                  DueDate                 ShipDate  \n",
       "0  2010-12-29 00:00:00.000  2011-01-10 00:00:00.000  2011-01-05 00:00:00.000  \n",
       "1  2010-12-29 00:00:00.000  2011-01-10 00:00:00.000  2011-01-05 00:00:00.000  \n",
       "2  2010-12-29 00:00:00.000  2011-01-10 00:00:00.000  2011-01-05 00:00:00.000  \n",
       "\n",
       "[3 rows x 26 columns]"
      ]
     },
     "execution_count": 12,
     "metadata": {},
     "output_type": "execute_result"
    }
   ],
   "source": [
    "ddf_sales.head(3)"
   ]
  },
  {
   "cell_type": "markdown",
   "metadata": {},
   "source": [
    "### Code Example 12 - pandas - Load a CSV file - all rows"
   ]
  },
  {
   "cell_type": "code",
   "execution_count": 13,
   "metadata": {},
   "outputs": [],
   "source": [
    "pdf_sales = pd.read_csv(\"FactInternetSales.csv\")"
   ]
  },
  {
   "cell_type": "markdown",
   "metadata": {},
   "source": [
    "### Code Example 13 - Dask - persist a dataframe to memory"
   ]
  },
  {
   "cell_type": "markdown",
   "metadata": {},
   "source": [
    "#### A correction from the video.  You need to assign the result of persist to a new dataframe b/c Dask dataframes are immutable."
   ]
  },
  {
   "cell_type": "code",
   "execution_count": 14,
   "metadata": {},
   "outputs": [],
   "source": [
    "from dask import persist\n",
    "\n",
    "ddf_sales = ddf_sales.persist()"
   ]
  },
  {
   "cell_type": "markdown",
   "metadata": {},
   "source": [
    "### Code Example 15 - pandas - Display the object type"
   ]
  },
  {
   "cell_type": "code",
   "execution_count": 15,
   "metadata": {
    "application/vnd.databricks.v1+cell": {
     "inputWidgets": {},
     "nuid": "051c90e1-7b10-45a0-818f-d83d42e4ad84",
     "showTitle": true,
     "title": "Code Example 11 - pandas - Confirm the data frame type"
    }
   },
   "outputs": [
    {
     "data": {
      "text/plain": [
       "pandas.core.frame.DataFrame"
      ]
     },
     "execution_count": 15,
     "metadata": {},
     "output_type": "execute_result"
    }
   ],
   "source": [
    "type(pdf_sales)"
   ]
  },
  {
   "cell_type": "markdown",
   "metadata": {},
   "source": [
    "### Code Example 16 - Dask - Display the object type"
   ]
  },
  {
   "cell_type": "code",
   "execution_count": 16,
   "metadata": {
    "application/vnd.databricks.v1+cell": {
     "inputWidgets": {},
     "nuid": "bec536d4-f6b2-43c1-bccf-fe50cca4778d",
     "showTitle": true,
     "title": "Code Example 12 - koalas - Confirm the data frame type"
    }
   },
   "outputs": [
    {
     "data": {
      "text/plain": [
       "dask.dataframe.core.DataFrame"
      ]
     },
     "execution_count": 16,
     "metadata": {},
     "output_type": "execute_result"
    }
   ],
   "source": [
    "type(ddf_sales)"
   ]
  },
  {
   "cell_type": "markdown",
   "metadata": {},
   "source": [
    "### Code Example 17 - Dask - Display the column names and types"
   ]
  },
  {
   "cell_type": "code",
   "execution_count": 17,
   "metadata": {
    "application/vnd.databricks.v1+cell": {
     "inputWidgets": {},
     "nuid": "de6844ce-fbd8-4a9b-b04e-46b2f664b6fc",
     "showTitle": true,
     "title": "Code Example 13 - pandas - View column names and types"
    }
   },
   "outputs": [
    {
     "data": {
      "text/plain": [
       "ProductKey      int64\n",
       "OrderDateKey    int64\n",
       "DueDateKey      int64\n",
       "ShipDateKey     int64\n",
       "dtype: object"
      ]
     },
     "execution_count": 17,
     "metadata": {},
     "output_type": "execute_result"
    }
   ],
   "source": [
    "pdf_sales.dtypes.head(4)"
   ]
  },
  {
   "cell_type": "markdown",
   "metadata": {},
   "source": [
    "### Code Example 18 - Dask - Display the column names and types"
   ]
  },
  {
   "cell_type": "code",
   "execution_count": 18,
   "metadata": {
    "application/vnd.databricks.v1+cell": {
     "inputWidgets": {},
     "nuid": "25a1d31e-c124-4f20-8314-52041677683c",
     "showTitle": true,
     "title": "Code Example 14 - koalas- View column names and types"
    }
   },
   "outputs": [
    {
     "data": {
      "text/plain": [
       "ProductKey      int64\n",
       "OrderDateKey    int64\n",
       "DueDateKey      int64\n",
       "ShipDateKey     int64\n",
       "dtype: object"
      ]
     },
     "execution_count": 18,
     "metadata": {},
     "output_type": "execute_result"
    }
   ],
   "source": [
    "ddf_sales.dtypes.head(4)"
   ]
  },
  {
   "cell_type": "markdown",
   "metadata": {
    "application/vnd.databricks.v1+cell": {
     "inputWidgets": {},
     "nuid": "c8a56dee-405d-4c99-a818-bdf1accaff00",
     "showTitle": false,
     "title": ""
    }
   },
   "source": [
    "## Statistical methods..."
   ]
  },
  {
   "cell_type": "markdown",
   "metadata": {
    "application/vnd.databricks.v1+cell": {
     "inputWidgets": {},
     "nuid": "00a2d704-520c-4e97-8f60-0e2ceef2645f",
     "showTitle": false,
     "title": ""
    }
   },
   "source": [
    "### Code Example 19 - pandas - Using the . syntax to reference columns..."
   ]
  },
  {
   "cell_type": "code",
   "execution_count": 19,
   "metadata": {
    "application/vnd.databricks.v1+cell": {
     "inputWidgets": {},
     "nuid": "917d0cbe-ee8e-42d1-a1fd-c1acdcc98710",
     "showTitle": true,
     "title": "Code Example 15 - pandas - Get summary stats with describe()"
    }
   },
   "outputs": [
    {
     "data": {
      "text/plain": [
       "count    60398.000000\n",
       "mean       486.086911\n",
       "std        928.489892\n",
       "min          2.290000\n",
       "25%          7.950000\n",
       "50%         29.990000\n",
       "75%        539.990000\n",
       "max       3578.270000\n",
       "Name: SalesAmount, dtype: float64"
      ]
     },
     "execution_count": 19,
     "metadata": {},
     "output_type": "execute_result"
    }
   ],
   "source": [
    "pdf_sales.SalesAmount.describe()"
   ]
  },
  {
   "cell_type": "markdown",
   "metadata": {},
   "source": [
    "### Code Example 20 - Dask - Using the . syntax to reference columns..."
   ]
  },
  {
   "cell_type": "code",
   "execution_count": 20,
   "metadata": {},
   "outputs": [
    {
     "data": {
      "text/plain": [
       "Dask Series Structure:\n",
       "npartitions=1\n",
       "    float64\n",
       "        ...\n",
       "Name: SalesAmount, dtype: float64\n",
       "Dask Name: describe-numeric, 20 tasks"
      ]
     },
     "execution_count": 20,
     "metadata": {},
     "output_type": "execute_result"
    }
   ],
   "source": [
    "ddf_sales.SalesAmount.describe()"
   ]
  },
  {
   "cell_type": "markdown",
   "metadata": {},
   "source": [
    "### Code Example 21 - Dask - Using compute to force execution."
   ]
  },
  {
   "cell_type": "code",
   "execution_count": 21,
   "metadata": {},
   "outputs": [
    {
     "data": {
      "text/plain": [
       "count    60398.000000\n",
       "mean       486.086911\n",
       "std        928.489892\n",
       "min          2.290000\n",
       "25%          7.950000\n",
       "50%         29.990000\n",
       "75%        539.990000\n",
       "max       3578.270000\n",
       "Name: SalesAmount, dtype: float64"
      ]
     },
     "execution_count": 21,
     "metadata": {},
     "output_type": "execute_result"
    }
   ],
   "source": [
    "ddf_sales.SalesAmount.describe().compute()"
   ]
  },
  {
   "cell_type": "markdown",
   "metadata": {},
   "source": [
    "#### Dask compute is equal to the Spark action in that it will execute all pending transformations\n",
    "#### and return the results as a <span style=\"color:blue\"> **pandas dataframe**</span>."
   ]
  },
  {
   "cell_type": "markdown",
   "metadata": {},
   "source": [
    "### Code Example 22 - Dask - Using compute() on a dataframe"
   ]
  },
  {
   "cell_type": "code",
   "execution_count": 22,
   "metadata": {},
   "outputs": [
    {
     "data": {
      "text/plain": [
       "count    60398.000000\n",
       "mean       486.086911\n",
       "std        928.489892\n",
       "min          2.290000\n",
       "25%          7.950000\n",
       "50%         29.990000\n",
       "75%        539.990000\n",
       "max       3578.270000\n",
       "Name: SalesAmount, dtype: float64"
      ]
     },
     "execution_count": 22,
     "metadata": {},
     "output_type": "execute_result"
    }
   ],
   "source": [
    "ddf_sales_stats = ddf_sales.SalesAmount.describe()\n",
    "ddf_sales_stats.compute()"
   ]
  },
  {
   "cell_type": "markdown",
   "metadata": {},
   "source": [
    "### Code Example 23 - pandas - Getting the mean"
   ]
  },
  {
   "cell_type": "code",
   "execution_count": 23,
   "metadata": {
    "application/vnd.databricks.v1+cell": {
     "inputWidgets": {},
     "nuid": "39803713-8318-4097-ac5b-26b1c06cf768",
     "showTitle": true,
     "title": " Code Example 17 - pandas - Get the average (mean) of "
    }
   },
   "outputs": [
    {
     "data": {
      "text/plain": [
       "486.0869105053147"
      ]
     },
     "execution_count": 23,
     "metadata": {},
     "output_type": "execute_result"
    }
   ],
   "source": [
    "pdf_sales.SalesAmount.mean()"
   ]
  },
  {
   "cell_type": "markdown",
   "metadata": {},
   "source": [
    "### Code Example 24 - Dask - Getting the mean"
   ]
  },
  {
   "cell_type": "code",
   "execution_count": 24,
   "metadata": {
    "application/vnd.databricks.v1+cell": {
     "inputWidgets": {},
     "nuid": "6c6be5dd-f215-49e8-9bee-736b5aad67df",
     "showTitle": true,
     "title": " Code Example 18 - koalas Get the average (mean) of "
    }
   },
   "outputs": [
    {
     "data": {
      "text/plain": [
       "486.0869105053147"
      ]
     },
     "execution_count": 24,
     "metadata": {},
     "output_type": "execute_result"
    }
   ],
   "source": [
    "ddf_avgsales = ddf_sales.SalesAmount.mean()\n",
    "ddf_avgsales.compute()"
   ]
  },
  {
   "cell_type": "markdown",
   "metadata": {},
   "source": [
    "### Code Example 25 - pandas - Accessing columns using the bracket sytax"
   ]
  },
  {
   "cell_type": "code",
   "execution_count": 25,
   "metadata": {
    "application/vnd.databricks.v1+cell": {
     "inputWidgets": {},
     "nuid": "c15934b5-38e6-4227-87e4-ba96f2dbca28",
     "showTitle": true,
     "title": "Code Example 19 - pandas - Using the [ ] syntax to reference columns..."
    }
   },
   "outputs": [
    {
     "data": {
      "text/plain": [
       "0        3578.2700\n",
       "1        3399.9900\n",
       "2        3399.9900\n",
       "3         699.0982\n",
       "4        3399.9900\n",
       "           ...    \n",
       "60393      21.9800\n",
       "60394       8.9900\n",
       "60395      21.9800\n",
       "60396     159.0000\n",
       "60397       8.9900\n",
       "Name: SalesAmount, Length: 60398, dtype: float64"
      ]
     },
     "execution_count": 25,
     "metadata": {},
     "output_type": "execute_result"
    }
   ],
   "source": [
    "pdf_sales[\"SalesAmount\"]"
   ]
  },
  {
   "cell_type": "markdown",
   "metadata": {},
   "source": [
    "### Code Example 26- Dask - Accessing columns using the bracket syntax"
   ]
  },
  {
   "cell_type": "code",
   "execution_count": 26,
   "metadata": {
    "application/vnd.databricks.v1+cell": {
     "inputWidgets": {},
     "nuid": "e45703a1-35cb-411b-9aed-d89126696179",
     "showTitle": true,
     "title": "Code Example 20 - koalas - Using the [ ] syntax to reference columns.  Notice all rows display."
    }
   },
   "outputs": [
    {
     "data": {
      "text/plain": [
       "Dask Series Structure:\n",
       "npartitions=1\n",
       "    float64\n",
       "        ...\n",
       "Name: SalesAmount, dtype: float64\n",
       "Dask Name: getitem, 2 tasks"
      ]
     },
     "execution_count": 26,
     "metadata": {},
     "output_type": "execute_result"
    }
   ],
   "source": [
    "ddf_sales[\"SalesAmount\"]"
   ]
  },
  {
   "cell_type": "markdown",
   "metadata": {},
   "source": [
    "### Code Example 27 - Dask - Print a dataframe column with compute()."
   ]
  },
  {
   "cell_type": "code",
   "execution_count": 27,
   "metadata": {},
   "outputs": [
    {
     "data": {
      "text/plain": [
       "0        3578.2700\n",
       "1        3399.9900\n",
       "2        3399.9900\n",
       "3         699.0982\n",
       "4        3399.9900\n",
       "           ...    \n",
       "60393      21.9800\n",
       "60394       8.9900\n",
       "60395      21.9800\n",
       "60396     159.0000\n",
       "60397       8.9900\n",
       "Name: SalesAmount, Length: 60398, dtype: float64"
      ]
     },
     "execution_count": 27,
     "metadata": {},
     "output_type": "execute_result"
    }
   ],
   "source": [
    "ddf_sales[\"SalesAmount\"].compute()"
   ]
  },
  {
   "cell_type": "markdown",
   "metadata": {},
   "source": [
    "### Code Example 28 - pandas - Filtering"
   ]
  },
  {
   "cell_type": "code",
   "execution_count": 28,
   "metadata": {
    "application/vnd.databricks.v1+cell": {
     "inputWidgets": {},
     "nuid": "29e3023f-86ed-443f-bd50-4bd7c9d07ca9",
     "showTitle": true,
     "title": "Code Example 21 - koalas - Filtering rows"
    }
   },
   "outputs": [
    {
     "data": {
      "text/html": [
       "<div>\n",
       "<style scoped>\n",
       "    .dataframe tbody tr th:only-of-type {\n",
       "        vertical-align: middle;\n",
       "    }\n",
       "\n",
       "    .dataframe tbody tr th {\n",
       "        vertical-align: top;\n",
       "    }\n",
       "\n",
       "    .dataframe thead th {\n",
       "        text-align: right;\n",
       "    }\n",
       "</style>\n",
       "<table border=\"1\" class=\"dataframe\">\n",
       "  <thead>\n",
       "    <tr style=\"text-align: right;\">\n",
       "      <th></th>\n",
       "      <th>ProductKey</th>\n",
       "      <th>OrderDateKey</th>\n",
       "      <th>DueDateKey</th>\n",
       "      <th>ShipDateKey</th>\n",
       "      <th>CustomerKey</th>\n",
       "      <th>PromotionKey</th>\n",
       "      <th>CurrencyKey</th>\n",
       "      <th>SalesTerritoryKey</th>\n",
       "      <th>SalesOrderNumber</th>\n",
       "      <th>SalesOrderLineNumber</th>\n",
       "      <th>...</th>\n",
       "      <th>ProductStandardCost</th>\n",
       "      <th>TotalProductCost</th>\n",
       "      <th>SalesAmount</th>\n",
       "      <th>TaxAmt</th>\n",
       "      <th>Freight</th>\n",
       "      <th>CarrierTrackingNumber</th>\n",
       "      <th>CustomerPONumber</th>\n",
       "      <th>OrderDate</th>\n",
       "      <th>DueDate</th>\n",
       "      <th>ShipDate</th>\n",
       "    </tr>\n",
       "  </thead>\n",
       "  <tbody>\n",
       "    <tr>\n",
       "      <th>0</th>\n",
       "      <td>310</td>\n",
       "      <td>20101229</td>\n",
       "      <td>20110110</td>\n",
       "      <td>20110105</td>\n",
       "      <td>21768</td>\n",
       "      <td>1</td>\n",
       "      <td>19</td>\n",
       "      <td>6</td>\n",
       "      <td>SO43697</td>\n",
       "      <td>1</td>\n",
       "      <td>...</td>\n",
       "      <td>2171.2942</td>\n",
       "      <td>2171.2942</td>\n",
       "      <td>3578.27</td>\n",
       "      <td>286.2616</td>\n",
       "      <td>89.4568</td>\n",
       "      <td>NaN</td>\n",
       "      <td>NaN</td>\n",
       "      <td>2010-12-29 00:00:00.000</td>\n",
       "      <td>2011-01-10 00:00:00.000</td>\n",
       "      <td>2011-01-05 00:00:00.000</td>\n",
       "    </tr>\n",
       "    <tr>\n",
       "      <th>1</th>\n",
       "      <td>346</td>\n",
       "      <td>20101229</td>\n",
       "      <td>20110110</td>\n",
       "      <td>20110105</td>\n",
       "      <td>28389</td>\n",
       "      <td>1</td>\n",
       "      <td>39</td>\n",
       "      <td>7</td>\n",
       "      <td>SO43698</td>\n",
       "      <td>1</td>\n",
       "      <td>...</td>\n",
       "      <td>1912.1544</td>\n",
       "      <td>1912.1544</td>\n",
       "      <td>3399.99</td>\n",
       "      <td>271.9992</td>\n",
       "      <td>84.9998</td>\n",
       "      <td>NaN</td>\n",
       "      <td>NaN</td>\n",
       "      <td>2010-12-29 00:00:00.000</td>\n",
       "      <td>2011-01-10 00:00:00.000</td>\n",
       "      <td>2011-01-05 00:00:00.000</td>\n",
       "    </tr>\n",
       "    <tr>\n",
       "      <th>2</th>\n",
       "      <td>346</td>\n",
       "      <td>20101229</td>\n",
       "      <td>20110110</td>\n",
       "      <td>20110105</td>\n",
       "      <td>25863</td>\n",
       "      <td>1</td>\n",
       "      <td>100</td>\n",
       "      <td>1</td>\n",
       "      <td>SO43699</td>\n",
       "      <td>1</td>\n",
       "      <td>...</td>\n",
       "      <td>1912.1544</td>\n",
       "      <td>1912.1544</td>\n",
       "      <td>3399.99</td>\n",
       "      <td>271.9992</td>\n",
       "      <td>84.9998</td>\n",
       "      <td>NaN</td>\n",
       "      <td>NaN</td>\n",
       "      <td>2010-12-29 00:00:00.000</td>\n",
       "      <td>2011-01-10 00:00:00.000</td>\n",
       "      <td>2011-01-05 00:00:00.000</td>\n",
       "    </tr>\n",
       "  </tbody>\n",
       "</table>\n",
       "<p>3 rows × 26 columns</p>\n",
       "</div>"
      ],
      "text/plain": [
       "   ProductKey  OrderDateKey  DueDateKey  ShipDateKey  CustomerKey  \\\n",
       "0         310      20101229    20110110     20110105        21768   \n",
       "1         346      20101229    20110110     20110105        28389   \n",
       "2         346      20101229    20110110     20110105        25863   \n",
       "\n",
       "   PromotionKey  CurrencyKey  SalesTerritoryKey SalesOrderNumber  \\\n",
       "0             1           19                  6          SO43697   \n",
       "1             1           39                  7          SO43698   \n",
       "2             1          100                  1          SO43699   \n",
       "\n",
       "   SalesOrderLineNumber  ...  ProductStandardCost  TotalProductCost  \\\n",
       "0                     1  ...            2171.2942         2171.2942   \n",
       "1                     1  ...            1912.1544         1912.1544   \n",
       "2                     1  ...            1912.1544         1912.1544   \n",
       "\n",
       "   SalesAmount    TaxAmt  Freight  CarrierTrackingNumber  CustomerPONumber  \\\n",
       "0      3578.27  286.2616  89.4568                    NaN               NaN   \n",
       "1      3399.99  271.9992  84.9998                    NaN               NaN   \n",
       "2      3399.99  271.9992  84.9998                    NaN               NaN   \n",
       "\n",
       "                 OrderDate                  DueDate                 ShipDate  \n",
       "0  2010-12-29 00:00:00.000  2011-01-10 00:00:00.000  2011-01-05 00:00:00.000  \n",
       "1  2010-12-29 00:00:00.000  2011-01-10 00:00:00.000  2011-01-05 00:00:00.000  \n",
       "2  2010-12-29 00:00:00.000  2011-01-10 00:00:00.000  2011-01-05 00:00:00.000  \n",
       "\n",
       "[3 rows x 26 columns]"
      ]
     },
     "execution_count": 28,
     "metadata": {},
     "output_type": "execute_result"
    }
   ],
   "source": [
    "pdf_sales[pdf_sales[\"SalesAmount\"] > 2000].head(3)"
   ]
  },
  {
   "cell_type": "markdown",
   "metadata": {},
   "source": [
    "### Code Example 29 - Dask - Filtering"
   ]
  },
  {
   "cell_type": "code",
   "execution_count": 29,
   "metadata": {
    "application/vnd.databricks.v1+cell": {
     "inputWidgets": {},
     "nuid": "73dc142a-43c3-4764-b880-65bcbcbdd28f",
     "showTitle": true,
     "title": "Code Example 22 - koalas - Filtering rows - be careful to change ALL dataframe prefixes!"
    }
   },
   "outputs": [
    {
     "data": {
      "text/html": [
       "<div>\n",
       "<style scoped>\n",
       "    .dataframe tbody tr th:only-of-type {\n",
       "        vertical-align: middle;\n",
       "    }\n",
       "\n",
       "    .dataframe tbody tr th {\n",
       "        vertical-align: top;\n",
       "    }\n",
       "\n",
       "    .dataframe thead th {\n",
       "        text-align: right;\n",
       "    }\n",
       "</style>\n",
       "<table border=\"1\" class=\"dataframe\">\n",
       "  <thead>\n",
       "    <tr style=\"text-align: right;\">\n",
       "      <th></th>\n",
       "      <th>ProductKey</th>\n",
       "      <th>OrderDateKey</th>\n",
       "      <th>DueDateKey</th>\n",
       "      <th>ShipDateKey</th>\n",
       "      <th>CustomerKey</th>\n",
       "      <th>PromotionKey</th>\n",
       "      <th>CurrencyKey</th>\n",
       "      <th>SalesTerritoryKey</th>\n",
       "      <th>SalesOrderNumber</th>\n",
       "      <th>SalesOrderLineNumber</th>\n",
       "      <th>...</th>\n",
       "      <th>ProductStandardCost</th>\n",
       "      <th>TotalProductCost</th>\n",
       "      <th>SalesAmount</th>\n",
       "      <th>TaxAmt</th>\n",
       "      <th>Freight</th>\n",
       "      <th>CarrierTrackingNumber</th>\n",
       "      <th>CustomerPONumber</th>\n",
       "      <th>OrderDate</th>\n",
       "      <th>DueDate</th>\n",
       "      <th>ShipDate</th>\n",
       "    </tr>\n",
       "  </thead>\n",
       "  <tbody>\n",
       "    <tr>\n",
       "      <th>0</th>\n",
       "      <td>310</td>\n",
       "      <td>20101229</td>\n",
       "      <td>20110110</td>\n",
       "      <td>20110105</td>\n",
       "      <td>21768</td>\n",
       "      <td>1</td>\n",
       "      <td>19</td>\n",
       "      <td>6</td>\n",
       "      <td>SO43697</td>\n",
       "      <td>1</td>\n",
       "      <td>...</td>\n",
       "      <td>2171.2942</td>\n",
       "      <td>2171.2942</td>\n",
       "      <td>3578.27</td>\n",
       "      <td>286.2616</td>\n",
       "      <td>89.4568</td>\n",
       "      <td>NaN</td>\n",
       "      <td>NaN</td>\n",
       "      <td>2010-12-29 00:00:00.000</td>\n",
       "      <td>2011-01-10 00:00:00.000</td>\n",
       "      <td>2011-01-05 00:00:00.000</td>\n",
       "    </tr>\n",
       "    <tr>\n",
       "      <th>1</th>\n",
       "      <td>346</td>\n",
       "      <td>20101229</td>\n",
       "      <td>20110110</td>\n",
       "      <td>20110105</td>\n",
       "      <td>28389</td>\n",
       "      <td>1</td>\n",
       "      <td>39</td>\n",
       "      <td>7</td>\n",
       "      <td>SO43698</td>\n",
       "      <td>1</td>\n",
       "      <td>...</td>\n",
       "      <td>1912.1544</td>\n",
       "      <td>1912.1544</td>\n",
       "      <td>3399.99</td>\n",
       "      <td>271.9992</td>\n",
       "      <td>84.9998</td>\n",
       "      <td>NaN</td>\n",
       "      <td>NaN</td>\n",
       "      <td>2010-12-29 00:00:00.000</td>\n",
       "      <td>2011-01-10 00:00:00.000</td>\n",
       "      <td>2011-01-05 00:00:00.000</td>\n",
       "    </tr>\n",
       "    <tr>\n",
       "      <th>2</th>\n",
       "      <td>346</td>\n",
       "      <td>20101229</td>\n",
       "      <td>20110110</td>\n",
       "      <td>20110105</td>\n",
       "      <td>25863</td>\n",
       "      <td>1</td>\n",
       "      <td>100</td>\n",
       "      <td>1</td>\n",
       "      <td>SO43699</td>\n",
       "      <td>1</td>\n",
       "      <td>...</td>\n",
       "      <td>1912.1544</td>\n",
       "      <td>1912.1544</td>\n",
       "      <td>3399.99</td>\n",
       "      <td>271.9992</td>\n",
       "      <td>84.9998</td>\n",
       "      <td>NaN</td>\n",
       "      <td>NaN</td>\n",
       "      <td>2010-12-29 00:00:00.000</td>\n",
       "      <td>2011-01-10 00:00:00.000</td>\n",
       "      <td>2011-01-05 00:00:00.000</td>\n",
       "    </tr>\n",
       "  </tbody>\n",
       "</table>\n",
       "<p>3 rows × 26 columns</p>\n",
       "</div>"
      ],
      "text/plain": [
       "   ProductKey  OrderDateKey  DueDateKey  ShipDateKey  CustomerKey  \\\n",
       "0         310      20101229    20110110     20110105        21768   \n",
       "1         346      20101229    20110110     20110105        28389   \n",
       "2         346      20101229    20110110     20110105        25863   \n",
       "\n",
       "   PromotionKey  CurrencyKey  SalesTerritoryKey SalesOrderNumber  \\\n",
       "0             1           19                  6          SO43697   \n",
       "1             1           39                  7          SO43698   \n",
       "2             1          100                  1          SO43699   \n",
       "\n",
       "   SalesOrderLineNumber  ...  ProductStandardCost  TotalProductCost  \\\n",
       "0                     1  ...            2171.2942         2171.2942   \n",
       "1                     1  ...            1912.1544         1912.1544   \n",
       "2                     1  ...            1912.1544         1912.1544   \n",
       "\n",
       "   SalesAmount    TaxAmt  Freight  CarrierTrackingNumber  CustomerPONumber  \\\n",
       "0      3578.27  286.2616  89.4568                    NaN               NaN   \n",
       "1      3399.99  271.9992  84.9998                    NaN               NaN   \n",
       "2      3399.99  271.9992  84.9998                    NaN               NaN   \n",
       "\n",
       "                 OrderDate                  DueDate                 ShipDate  \n",
       "0  2010-12-29 00:00:00.000  2011-01-10 00:00:00.000  2011-01-05 00:00:00.000  \n",
       "1  2010-12-29 00:00:00.000  2011-01-10 00:00:00.000  2011-01-05 00:00:00.000  \n",
       "2  2010-12-29 00:00:00.000  2011-01-10 00:00:00.000  2011-01-05 00:00:00.000  \n",
       "\n",
       "[3 rows x 26 columns]"
      ]
     },
     "execution_count": 29,
     "metadata": {},
     "output_type": "execute_result"
    }
   ],
   "source": [
    "ddf_sales[ddf_sales[\"SalesAmount\"] > 2000].head(3)  # Forces compute!"
   ]
  },
  {
   "cell_type": "markdown",
   "metadata": {},
   "source": [
    "### Code Example 30 - Dask - Filtering with compute()"
   ]
  },
  {
   "cell_type": "code",
   "execution_count": 30,
   "metadata": {},
   "outputs": [
    {
     "data": {
      "text/html": [
       "<div>\n",
       "<style scoped>\n",
       "    .dataframe tbody tr th:only-of-type {\n",
       "        vertical-align: middle;\n",
       "    }\n",
       "\n",
       "    .dataframe tbody tr th {\n",
       "        vertical-align: top;\n",
       "    }\n",
       "\n",
       "    .dataframe thead th {\n",
       "        text-align: right;\n",
       "    }\n",
       "</style>\n",
       "<table border=\"1\" class=\"dataframe\">\n",
       "  <thead>\n",
       "    <tr style=\"text-align: right;\">\n",
       "      <th></th>\n",
       "      <th>ProductKey</th>\n",
       "      <th>OrderDateKey</th>\n",
       "      <th>DueDateKey</th>\n",
       "      <th>ShipDateKey</th>\n",
       "      <th>CustomerKey</th>\n",
       "      <th>PromotionKey</th>\n",
       "      <th>CurrencyKey</th>\n",
       "      <th>SalesTerritoryKey</th>\n",
       "      <th>SalesOrderNumber</th>\n",
       "      <th>SalesOrderLineNumber</th>\n",
       "      <th>...</th>\n",
       "      <th>ProductStandardCost</th>\n",
       "      <th>TotalProductCost</th>\n",
       "      <th>SalesAmount</th>\n",
       "      <th>TaxAmt</th>\n",
       "      <th>Freight</th>\n",
       "      <th>CarrierTrackingNumber</th>\n",
       "      <th>CustomerPONumber</th>\n",
       "      <th>OrderDate</th>\n",
       "      <th>DueDate</th>\n",
       "      <th>ShipDate</th>\n",
       "    </tr>\n",
       "  </thead>\n",
       "  <tbody>\n",
       "    <tr>\n",
       "      <th>0</th>\n",
       "      <td>310</td>\n",
       "      <td>20101229</td>\n",
       "      <td>20110110</td>\n",
       "      <td>20110105</td>\n",
       "      <td>21768</td>\n",
       "      <td>1</td>\n",
       "      <td>19</td>\n",
       "      <td>6</td>\n",
       "      <td>SO43697</td>\n",
       "      <td>1</td>\n",
       "      <td>...</td>\n",
       "      <td>2171.2942</td>\n",
       "      <td>2171.2942</td>\n",
       "      <td>3578.27</td>\n",
       "      <td>286.2616</td>\n",
       "      <td>89.4568</td>\n",
       "      <td>NaN</td>\n",
       "      <td>NaN</td>\n",
       "      <td>2010-12-29 00:00:00.000</td>\n",
       "      <td>2011-01-10 00:00:00.000</td>\n",
       "      <td>2011-01-05 00:00:00.000</td>\n",
       "    </tr>\n",
       "    <tr>\n",
       "      <th>1</th>\n",
       "      <td>346</td>\n",
       "      <td>20101229</td>\n",
       "      <td>20110110</td>\n",
       "      <td>20110105</td>\n",
       "      <td>28389</td>\n",
       "      <td>1</td>\n",
       "      <td>39</td>\n",
       "      <td>7</td>\n",
       "      <td>SO43698</td>\n",
       "      <td>1</td>\n",
       "      <td>...</td>\n",
       "      <td>1912.1544</td>\n",
       "      <td>1912.1544</td>\n",
       "      <td>3399.99</td>\n",
       "      <td>271.9992</td>\n",
       "      <td>84.9998</td>\n",
       "      <td>NaN</td>\n",
       "      <td>NaN</td>\n",
       "      <td>2010-12-29 00:00:00.000</td>\n",
       "      <td>2011-01-10 00:00:00.000</td>\n",
       "      <td>2011-01-05 00:00:00.000</td>\n",
       "    </tr>\n",
       "    <tr>\n",
       "      <th>2</th>\n",
       "      <td>346</td>\n",
       "      <td>20101229</td>\n",
       "      <td>20110110</td>\n",
       "      <td>20110105</td>\n",
       "      <td>25863</td>\n",
       "      <td>1</td>\n",
       "      <td>100</td>\n",
       "      <td>1</td>\n",
       "      <td>SO43699</td>\n",
       "      <td>1</td>\n",
       "      <td>...</td>\n",
       "      <td>1912.1544</td>\n",
       "      <td>1912.1544</td>\n",
       "      <td>3399.99</td>\n",
       "      <td>271.9992</td>\n",
       "      <td>84.9998</td>\n",
       "      <td>NaN</td>\n",
       "      <td>NaN</td>\n",
       "      <td>2010-12-29 00:00:00.000</td>\n",
       "      <td>2011-01-10 00:00:00.000</td>\n",
       "      <td>2011-01-05 00:00:00.000</td>\n",
       "    </tr>\n",
       "  </tbody>\n",
       "</table>\n",
       "<p>3 rows × 26 columns</p>\n",
       "</div>"
      ],
      "text/plain": [
       "   ProductKey  OrderDateKey  DueDateKey  ShipDateKey  CustomerKey  \\\n",
       "0         310      20101229    20110110     20110105        21768   \n",
       "1         346      20101229    20110110     20110105        28389   \n",
       "2         346      20101229    20110110     20110105        25863   \n",
       "\n",
       "   PromotionKey  CurrencyKey  SalesTerritoryKey SalesOrderNumber  \\\n",
       "0             1           19                  6          SO43697   \n",
       "1             1           39                  7          SO43698   \n",
       "2             1          100                  1          SO43699   \n",
       "\n",
       "   SalesOrderLineNumber  ...  ProductStandardCost  TotalProductCost  \\\n",
       "0                     1  ...            2171.2942         2171.2942   \n",
       "1                     1  ...            1912.1544         1912.1544   \n",
       "2                     1  ...            1912.1544         1912.1544   \n",
       "\n",
       "   SalesAmount    TaxAmt  Freight  CarrierTrackingNumber  CustomerPONumber  \\\n",
       "0      3578.27  286.2616  89.4568                    NaN               NaN   \n",
       "1      3399.99  271.9992  84.9998                    NaN               NaN   \n",
       "2      3399.99  271.9992  84.9998                    NaN               NaN   \n",
       "\n",
       "                 OrderDate                  DueDate                 ShipDate  \n",
       "0  2010-12-29 00:00:00.000  2011-01-10 00:00:00.000  2011-01-05 00:00:00.000  \n",
       "1  2010-12-29 00:00:00.000  2011-01-10 00:00:00.000  2011-01-05 00:00:00.000  \n",
       "2  2010-12-29 00:00:00.000  2011-01-10 00:00:00.000  2011-01-05 00:00:00.000  \n",
       "\n",
       "[3 rows x 26 columns]"
      ]
     },
     "execution_count": 30,
     "metadata": {},
     "output_type": "execute_result"
    }
   ],
   "source": [
    "ddf_sales[ddf_sales[\"SalesAmount\"] > 2000].compute().head(3)"
   ]
  },
  {
   "cell_type": "markdown",
   "metadata": {},
   "source": [
    "### Code Example 31 - pandas - Slicing by rows and columns."
   ]
  },
  {
   "cell_type": "code",
   "execution_count": 31,
   "metadata": {
    "application/vnd.databricks.v1+cell": {
     "inputWidgets": {},
     "nuid": "3e18e223-4b3d-4ad1-adcb-65680db26eb1",
     "showTitle": true,
     "title": "Code Example 23 - koalas - Slicing by rows by index values, columns by name"
    }
   },
   "outputs": [
    {
     "data": {
      "text/plain": [
       "0    310\n",
       "1    346\n",
       "2    346\n",
       "Name: ProductKey, dtype: int64"
      ]
     },
     "execution_count": 31,
     "metadata": {},
     "output_type": "execute_result"
    }
   ],
   "source": [
    "pdf_sales[0:3][\"ProductKey\"]"
   ]
  },
  {
   "cell_type": "markdown",
   "metadata": {},
   "source": [
    "### Code Example 32 - Dask - Slicing by rows and columns"
   ]
  },
  {
   "cell_type": "code",
   "execution_count": 32,
   "metadata": {
    "application/vnd.databricks.v1+cell": {
     "inputWidgets": {},
     "nuid": "f56bf6db-4edd-41ea-9fd4-f01914ef995b",
     "showTitle": true,
     "title": "Code Example 24 - koalas - Slicing by rows by index values, columns by name"
    }
   },
   "outputs": [
    {
     "ename": "NotImplementedError",
     "evalue": "'DataFrame.iloc' only supports selecting columns. It must be used like 'df.iloc[:, column_indexer]'.",
     "output_type": "error",
     "traceback": [
      "\u001b[1;31m---------------------------------------------------------------------------\u001b[0m",
      "\u001b[1;31mNotImplementedError\u001b[0m                       Traceback (most recent call last)",
      "\u001b[1;32m~\\AppData\\Local\\Temp/ipykernel_21292/700149898.py\u001b[0m in \u001b[0;36m<module>\u001b[1;34m\u001b[0m\n\u001b[1;32m----> 1\u001b[1;33m \u001b[0mddf_sales\u001b[0m\u001b[1;33m[\u001b[0m\u001b[1;36m0\u001b[0m\u001b[1;33m:\u001b[0m\u001b[1;36m3\u001b[0m\u001b[1;33m]\u001b[0m\u001b[1;33m[\u001b[0m\u001b[1;34m'ProductKey'\u001b[0m\u001b[1;33m]\u001b[0m\u001b[1;33m\u001b[0m\u001b[1;33m\u001b[0m\u001b[0m\n\u001b[0m",
      "\u001b[1;32mc:\\Users\\hetia\\AppData\\Local\\Programs\\Python\\Python39\\lib\\site-packages\\dask\\dataframe\\core.py\u001b[0m in \u001b[0;36m__getitem__\u001b[1;34m(self, key)\u001b[0m\n\u001b[0;32m   4390\u001b[0m                 \u001b[1;31m# unsupported, but we call it anyway here for future-proofing\u001b[0m\u001b[1;33m\u001b[0m\u001b[1;33m\u001b[0m\u001b[0m\n\u001b[0;32m   4391\u001b[0m                 \u001b[1;31m# and error-attribution purposes\u001b[0m\u001b[1;33m\u001b[0m\u001b[1;33m\u001b[0m\u001b[0m\n\u001b[1;32m-> 4392\u001b[1;33m                 \u001b[1;32mreturn\u001b[0m \u001b[0mself\u001b[0m\u001b[1;33m.\u001b[0m\u001b[0miloc\u001b[0m\u001b[1;33m[\u001b[0m\u001b[0mkey\u001b[0m\u001b[1;33m]\u001b[0m\u001b[1;33m\u001b[0m\u001b[1;33m\u001b[0m\u001b[0m\n\u001b[0m\u001b[0;32m   4393\u001b[0m             \u001b[1;32melse\u001b[0m\u001b[1;33m:\u001b[0m\u001b[1;33m\u001b[0m\u001b[1;33m\u001b[0m\u001b[0m\n\u001b[0;32m   4394\u001b[0m                 \u001b[1;32mreturn\u001b[0m \u001b[0mself\u001b[0m\u001b[1;33m.\u001b[0m\u001b[0mloc\u001b[0m\u001b[1;33m[\u001b[0m\u001b[0mkey\u001b[0m\u001b[1;33m]\u001b[0m\u001b[1;33m\u001b[0m\u001b[1;33m\u001b[0m\u001b[0m\n",
      "\u001b[1;32mc:\\Users\\hetia\\AppData\\Local\\Programs\\Python\\Python39\\lib\\site-packages\\dask\\dataframe\\indexing.py\u001b[0m in \u001b[0;36m__getitem__\u001b[1;34m(self, key)\u001b[0m\n\u001b[0;32m     51\u001b[0m         )\n\u001b[0;32m     52\u001b[0m         \u001b[1;32mif\u001b[0m \u001b[1;32mnot\u001b[0m \u001b[0misinstance\u001b[0m\u001b[1;33m(\u001b[0m\u001b[0mkey\u001b[0m\u001b[1;33m,\u001b[0m \u001b[0mtuple\u001b[0m\u001b[1;33m)\u001b[0m\u001b[1;33m:\u001b[0m\u001b[1;33m\u001b[0m\u001b[1;33m\u001b[0m\u001b[0m\n\u001b[1;32m---> 53\u001b[1;33m             \u001b[1;32mraise\u001b[0m \u001b[0mNotImplementedError\u001b[0m\u001b[1;33m(\u001b[0m\u001b[0mmsg\u001b[0m\u001b[1;33m)\u001b[0m\u001b[1;33m\u001b[0m\u001b[1;33m\u001b[0m\u001b[0m\n\u001b[0m\u001b[0;32m     54\u001b[0m \u001b[1;33m\u001b[0m\u001b[0m\n\u001b[0;32m     55\u001b[0m         \u001b[1;32mif\u001b[0m \u001b[0mlen\u001b[0m\u001b[1;33m(\u001b[0m\u001b[0mkey\u001b[0m\u001b[1;33m)\u001b[0m \u001b[1;33m>\u001b[0m \u001b[1;36m2\u001b[0m\u001b[1;33m:\u001b[0m\u001b[1;33m\u001b[0m\u001b[1;33m\u001b[0m\u001b[0m\n",
      "\u001b[1;31mNotImplementedError\u001b[0m: 'DataFrame.iloc' only supports selecting columns. It must be used like 'df.iloc[:, column_indexer]'."
     ]
    }
   ],
   "source": [
    "ddf_sales[0:3][\"ProductKey\"]"
   ]
  },
  {
   "cell_type": "markdown",
   "metadata": {},
   "source": [
    "### Code Example 33 - Dask - Slicing by columns with all rows"
   ]
  },
  {
   "cell_type": "code",
   "execution_count": 33,
   "metadata": {},
   "outputs": [
    {
     "data": {
      "text/plain": [
       "0    310\n",
       "1    346\n",
       "2    346\n",
       "Name: ProductKey, dtype: int64"
      ]
     },
     "execution_count": 33,
     "metadata": {},
     "output_type": "execute_result"
    }
   ],
   "source": [
    "ddf_sales[:][\"ProductKey\"].head(3)"
   ]
  },
  {
   "cell_type": "markdown",
   "metadata": {},
   "source": [
    "### Code Example 34 - Dask - Slicing - all rows but selected columns"
   ]
  },
  {
   "cell_type": "code",
   "execution_count": 34,
   "metadata": {},
   "outputs": [
    {
     "data": {
      "text/html": [
       "<div>\n",
       "<style scoped>\n",
       "    .dataframe tbody tr th:only-of-type {\n",
       "        vertical-align: middle;\n",
       "    }\n",
       "\n",
       "    .dataframe tbody tr th {\n",
       "        vertical-align: top;\n",
       "    }\n",
       "\n",
       "    .dataframe thead th {\n",
       "        text-align: right;\n",
       "    }\n",
       "</style>\n",
       "<table border=\"1\" class=\"dataframe\">\n",
       "  <thead>\n",
       "    <tr style=\"text-align: right;\">\n",
       "      <th></th>\n",
       "      <th>ProductKey</th>\n",
       "    </tr>\n",
       "  </thead>\n",
       "  <tbody>\n",
       "    <tr>\n",
       "      <th>0</th>\n",
       "      <td>310</td>\n",
       "    </tr>\n",
       "    <tr>\n",
       "      <th>1</th>\n",
       "      <td>346</td>\n",
       "    </tr>\n",
       "    <tr>\n",
       "      <th>2</th>\n",
       "      <td>346</td>\n",
       "    </tr>\n",
       "  </tbody>\n",
       "</table>\n",
       "</div>"
      ],
      "text/plain": [
       "   ProductKey\n",
       "0         310\n",
       "1         346\n",
       "2         346"
      ]
     },
     "execution_count": 34,
     "metadata": {},
     "output_type": "execute_result"
    }
   ],
   "source": [
    "ddf_sales.iloc[:, 0:1].head(3)"
   ]
  },
  {
   "cell_type": "markdown",
   "metadata": {},
   "source": [
    "### Code Example 35 - pandas - Slicing using iloc by selected column numbers"
   ]
  },
  {
   "cell_type": "code",
   "execution_count": 35,
   "metadata": {
    "application/vnd.databricks.v1+cell": {
     "inputWidgets": {},
     "nuid": "abd16b01-23a9-444b-a014-d9766b8030ae",
     "showTitle": true,
     "title": "Code Example 25 - pandas - Select columns by index"
    }
   },
   "outputs": [
    {
     "data": {
      "text/html": [
       "<div>\n",
       "<style scoped>\n",
       "    .dataframe tbody tr th:only-of-type {\n",
       "        vertical-align: middle;\n",
       "    }\n",
       "\n",
       "    .dataframe tbody tr th {\n",
       "        vertical-align: top;\n",
       "    }\n",
       "\n",
       "    .dataframe thead th {\n",
       "        text-align: right;\n",
       "    }\n",
       "</style>\n",
       "<table border=\"1\" class=\"dataframe\">\n",
       "  <thead>\n",
       "    <tr style=\"text-align: right;\">\n",
       "      <th></th>\n",
       "      <th>OrderDateKey</th>\n",
       "      <th>DueDateKey</th>\n",
       "    </tr>\n",
       "  </thead>\n",
       "  <tbody>\n",
       "    <tr>\n",
       "      <th>0</th>\n",
       "      <td>20101229</td>\n",
       "      <td>20110110</td>\n",
       "    </tr>\n",
       "    <tr>\n",
       "      <th>1</th>\n",
       "      <td>20101229</td>\n",
       "      <td>20110110</td>\n",
       "    </tr>\n",
       "    <tr>\n",
       "      <th>2</th>\n",
       "      <td>20101229</td>\n",
       "      <td>20110110</td>\n",
       "    </tr>\n",
       "    <tr>\n",
       "      <th>3</th>\n",
       "      <td>20101229</td>\n",
       "      <td>20110110</td>\n",
       "    </tr>\n",
       "    <tr>\n",
       "      <th>4</th>\n",
       "      <td>20101229</td>\n",
       "      <td>20110110</td>\n",
       "    </tr>\n",
       "  </tbody>\n",
       "</table>\n",
       "</div>"
      ],
      "text/plain": [
       "   OrderDateKey  DueDateKey\n",
       "0      20101229    20110110\n",
       "1      20101229    20110110\n",
       "2      20101229    20110110\n",
       "3      20101229    20110110\n",
       "4      20101229    20110110"
      ]
     },
     "execution_count": 35,
     "metadata": {},
     "output_type": "execute_result"
    }
   ],
   "source": [
    "pdf_sales.iloc[:, [1, 2]].head(5)  # select by column number..."
   ]
  },
  {
   "cell_type": "markdown",
   "metadata": {},
   "source": [
    "### Code Example 36 - Dask - Slicing using iloc by selected column numbers"
   ]
  },
  {
   "cell_type": "code",
   "execution_count": 36,
   "metadata": {
    "application/vnd.databricks.v1+cell": {
     "inputWidgets": {},
     "nuid": "6af02daa-31c5-4f5a-8486-ab50765dfd23",
     "showTitle": true,
     "title": "Code Example 26 - koalas - Select columns by index"
    }
   },
   "outputs": [
    {
     "data": {
      "text/html": [
       "<div>\n",
       "<style scoped>\n",
       "    .dataframe tbody tr th:only-of-type {\n",
       "        vertical-align: middle;\n",
       "    }\n",
       "\n",
       "    .dataframe tbody tr th {\n",
       "        vertical-align: top;\n",
       "    }\n",
       "\n",
       "    .dataframe thead th {\n",
       "        text-align: right;\n",
       "    }\n",
       "</style>\n",
       "<table border=\"1\" class=\"dataframe\">\n",
       "  <thead>\n",
       "    <tr style=\"text-align: right;\">\n",
       "      <th></th>\n",
       "      <th>OrderDateKey</th>\n",
       "      <th>DueDateKey</th>\n",
       "    </tr>\n",
       "  </thead>\n",
       "  <tbody>\n",
       "    <tr>\n",
       "      <th>0</th>\n",
       "      <td>20101229</td>\n",
       "      <td>20110110</td>\n",
       "    </tr>\n",
       "    <tr>\n",
       "      <th>1</th>\n",
       "      <td>20101229</td>\n",
       "      <td>20110110</td>\n",
       "    </tr>\n",
       "    <tr>\n",
       "      <th>2</th>\n",
       "      <td>20101229</td>\n",
       "      <td>20110110</td>\n",
       "    </tr>\n",
       "    <tr>\n",
       "      <th>3</th>\n",
       "      <td>20101229</td>\n",
       "      <td>20110110</td>\n",
       "    </tr>\n",
       "    <tr>\n",
       "      <th>4</th>\n",
       "      <td>20101229</td>\n",
       "      <td>20110110</td>\n",
       "    </tr>\n",
       "  </tbody>\n",
       "</table>\n",
       "</div>"
      ],
      "text/plain": [
       "   OrderDateKey  DueDateKey\n",
       "0      20101229    20110110\n",
       "1      20101229    20110110\n",
       "2      20101229    20110110\n",
       "3      20101229    20110110\n",
       "4      20101229    20110110"
      ]
     },
     "execution_count": 36,
     "metadata": {},
     "output_type": "execute_result"
    }
   ],
   "source": [
    "ddf_sales.iloc[:, [1, 2]].head(5)  # select by column number..."
   ]
  },
  {
   "cell_type": "markdown",
   "metadata": {},
   "source": [
    "### Code Example 37- pandas - Slicing row ranges and column names"
   ]
  },
  {
   "cell_type": "code",
   "execution_count": 37,
   "metadata": {
    "application/vnd.databricks.v1+cell": {
     "inputWidgets": {},
     "nuid": "f8909e17-a96c-49a1-87d0-cdb7667ee130",
     "showTitle": true,
     "title": "Code Example 27 - pandas - Slicing by row numbers and column names"
    }
   },
   "outputs": [
    {
     "data": {
      "text/html": [
       "<div>\n",
       "<style scoped>\n",
       "    .dataframe tbody tr th:only-of-type {\n",
       "        vertical-align: middle;\n",
       "    }\n",
       "\n",
       "    .dataframe tbody tr th {\n",
       "        vertical-align: top;\n",
       "    }\n",
       "\n",
       "    .dataframe thead th {\n",
       "        text-align: right;\n",
       "    }\n",
       "</style>\n",
       "<table border=\"1\" class=\"dataframe\">\n",
       "  <thead>\n",
       "    <tr style=\"text-align: right;\">\n",
       "      <th></th>\n",
       "      <th>ProductKey</th>\n",
       "      <th>SalesAmount</th>\n",
       "    </tr>\n",
       "  </thead>\n",
       "  <tbody>\n",
       "    <tr>\n",
       "      <th>1</th>\n",
       "      <td>346</td>\n",
       "      <td>3399.9900</td>\n",
       "    </tr>\n",
       "    <tr>\n",
       "      <th>2</th>\n",
       "      <td>346</td>\n",
       "      <td>3399.9900</td>\n",
       "    </tr>\n",
       "    <tr>\n",
       "      <th>3</th>\n",
       "      <td>336</td>\n",
       "      <td>699.0982</td>\n",
       "    </tr>\n",
       "    <tr>\n",
       "      <th>4</th>\n",
       "      <td>346</td>\n",
       "      <td>3399.9900</td>\n",
       "    </tr>\n",
       "  </tbody>\n",
       "</table>\n",
       "</div>"
      ],
      "text/plain": [
       "   ProductKey  SalesAmount\n",
       "1         346    3399.9900\n",
       "2         346    3399.9900\n",
       "3         336     699.0982\n",
       "4         346    3399.9900"
      ]
     },
     "execution_count": 37,
     "metadata": {},
     "output_type": "execute_result"
    }
   ],
   "source": [
    "pdf_sales[1:5][[\"ProductKey\", \"SalesAmount\"]]"
   ]
  },
  {
   "cell_type": "markdown",
   "metadata": {},
   "source": [
    "### Code Example 38- Dask - Slicing row ranges and column names - fails"
   ]
  },
  {
   "cell_type": "code",
   "execution_count": 38,
   "metadata": {
    "application/vnd.databricks.v1+cell": {
     "inputWidgets": {},
     "nuid": "ed1ca2d3-3e11-46f0-809b-9d8f3ace568b",
     "showTitle": true,
     "title": "Code Example 28 - koalas - Slicing by row numbers and column names"
    }
   },
   "outputs": [
    {
     "data": {
      "text/html": [
       "<div>\n",
       "<style scoped>\n",
       "    .dataframe tbody tr th:only-of-type {\n",
       "        vertical-align: middle;\n",
       "    }\n",
       "\n",
       "    .dataframe tbody tr th {\n",
       "        vertical-align: top;\n",
       "    }\n",
       "\n",
       "    .dataframe thead th {\n",
       "        text-align: right;\n",
       "    }\n",
       "</style>\n",
       "<table border=\"1\" class=\"dataframe\">\n",
       "  <thead>\n",
       "    <tr style=\"text-align: right;\">\n",
       "      <th></th>\n",
       "      <th>ProductKey</th>\n",
       "      <th>SalesAmount</th>\n",
       "    </tr>\n",
       "  </thead>\n",
       "  <tbody>\n",
       "    <tr>\n",
       "      <th>0</th>\n",
       "      <td>310</td>\n",
       "      <td>3578.2700</td>\n",
       "    </tr>\n",
       "    <tr>\n",
       "      <th>1</th>\n",
       "      <td>346</td>\n",
       "      <td>3399.9900</td>\n",
       "    </tr>\n",
       "    <tr>\n",
       "      <th>2</th>\n",
       "      <td>346</td>\n",
       "      <td>3399.9900</td>\n",
       "    </tr>\n",
       "    <tr>\n",
       "      <th>3</th>\n",
       "      <td>336</td>\n",
       "      <td>699.0982</td>\n",
       "    </tr>\n",
       "    <tr>\n",
       "      <th>4</th>\n",
       "      <td>346</td>\n",
       "      <td>3399.9900</td>\n",
       "    </tr>\n",
       "  </tbody>\n",
       "</table>\n",
       "</div>"
      ],
      "text/plain": [
       "   ProductKey  SalesAmount\n",
       "0         310    3578.2700\n",
       "1         346    3399.9900\n",
       "2         346    3399.9900\n",
       "3         336     699.0982\n",
       "4         346    3399.9900"
      ]
     },
     "execution_count": 38,
     "metadata": {},
     "output_type": "execute_result"
    }
   ],
   "source": [
    "ddf_sales[:][[\"ProductKey\", \"SalesAmount\"]].head(5)"
   ]
  },
  {
   "cell_type": "markdown",
   "metadata": {},
   "source": [
    "### Code Example 39- Dask - Slicing row ranges and column names with compute"
   ]
  },
  {
   "cell_type": "code",
   "execution_count": 39,
   "metadata": {},
   "outputs": [
    {
     "data": {
      "text/html": [
       "<div>\n",
       "<style scoped>\n",
       "    .dataframe tbody tr th:only-of-type {\n",
       "        vertical-align: middle;\n",
       "    }\n",
       "\n",
       "    .dataframe tbody tr th {\n",
       "        vertical-align: top;\n",
       "    }\n",
       "\n",
       "    .dataframe thead th {\n",
       "        text-align: right;\n",
       "    }\n",
       "</style>\n",
       "<table border=\"1\" class=\"dataframe\">\n",
       "  <thead>\n",
       "    <tr style=\"text-align: right;\">\n",
       "      <th></th>\n",
       "      <th>ProductKey</th>\n",
       "      <th>SalesAmount</th>\n",
       "    </tr>\n",
       "  </thead>\n",
       "  <tbody>\n",
       "    <tr>\n",
       "      <th>0</th>\n",
       "      <td>310</td>\n",
       "      <td>3578.2700</td>\n",
       "    </tr>\n",
       "    <tr>\n",
       "      <th>1</th>\n",
       "      <td>346</td>\n",
       "      <td>3399.9900</td>\n",
       "    </tr>\n",
       "    <tr>\n",
       "      <th>2</th>\n",
       "      <td>346</td>\n",
       "      <td>3399.9900</td>\n",
       "    </tr>\n",
       "    <tr>\n",
       "      <th>3</th>\n",
       "      <td>336</td>\n",
       "      <td>699.0982</td>\n",
       "    </tr>\n",
       "    <tr>\n",
       "      <th>4</th>\n",
       "      <td>346</td>\n",
       "      <td>3399.9900</td>\n",
       "    </tr>\n",
       "    <tr>\n",
       "      <th>...</th>\n",
       "      <td>...</td>\n",
       "      <td>...</td>\n",
       "    </tr>\n",
       "    <tr>\n",
       "      <th>60393</th>\n",
       "      <td>485</td>\n",
       "      <td>21.9800</td>\n",
       "    </tr>\n",
       "    <tr>\n",
       "      <th>60394</th>\n",
       "      <td>225</td>\n",
       "      <td>8.9900</td>\n",
       "    </tr>\n",
       "    <tr>\n",
       "      <th>60395</th>\n",
       "      <td>485</td>\n",
       "      <td>21.9800</td>\n",
       "    </tr>\n",
       "    <tr>\n",
       "      <th>60396</th>\n",
       "      <td>486</td>\n",
       "      <td>159.0000</td>\n",
       "    </tr>\n",
       "    <tr>\n",
       "      <th>60397</th>\n",
       "      <td>225</td>\n",
       "      <td>8.9900</td>\n",
       "    </tr>\n",
       "  </tbody>\n",
       "</table>\n",
       "<p>60398 rows × 2 columns</p>\n",
       "</div>"
      ],
      "text/plain": [
       "       ProductKey  SalesAmount\n",
       "0             310    3578.2700\n",
       "1             346    3399.9900\n",
       "2             346    3399.9900\n",
       "3             336     699.0982\n",
       "4             346    3399.9900\n",
       "...           ...          ...\n",
       "60393         485      21.9800\n",
       "60394         225       8.9900\n",
       "60395         485      21.9800\n",
       "60396         486     159.0000\n",
       "60397         225       8.9900\n",
       "\n",
       "[60398 rows x 2 columns]"
      ]
     },
     "execution_count": 39,
     "metadata": {},
     "output_type": "execute_result"
    }
   ],
   "source": [
    "ddf_sales[:][[\"ProductKey\", \"SalesAmount\"]].compute()"
   ]
  },
  {
   "cell_type": "markdown",
   "metadata": {},
   "source": [
    "### Code Example 40 - pandas - set_index"
   ]
  },
  {
   "cell_type": "code",
   "execution_count": 40,
   "metadata": {
    "application/vnd.databricks.v1+cell": {
     "inputWidgets": {},
     "nuid": "3b893156-43a9-4cc1-8550-9c71b10a5c5c",
     "showTitle": true,
     "title": "Code Example 29 - pandas - Setting the index"
    }
   },
   "outputs": [
    {
     "data": {
      "text/html": [
       "<div>\n",
       "<style scoped>\n",
       "    .dataframe tbody tr th:only-of-type {\n",
       "        vertical-align: middle;\n",
       "    }\n",
       "\n",
       "    .dataframe tbody tr th {\n",
       "        vertical-align: top;\n",
       "    }\n",
       "\n",
       "    .dataframe thead th {\n",
       "        text-align: right;\n",
       "    }\n",
       "</style>\n",
       "<table border=\"1\" class=\"dataframe\">\n",
       "  <thead>\n",
       "    <tr style=\"text-align: right;\">\n",
       "      <th></th>\n",
       "      <th>ProductKey</th>\n",
       "      <th>OrderDateKey</th>\n",
       "      <th>DueDateKey</th>\n",
       "      <th>ShipDateKey</th>\n",
       "      <th>CustomerKey</th>\n",
       "      <th>PromotionKey</th>\n",
       "      <th>CurrencyKey</th>\n",
       "      <th>SalesTerritoryKey</th>\n",
       "      <th>SalesOrderNumber</th>\n",
       "      <th>SalesOrderLineNumber</th>\n",
       "      <th>...</th>\n",
       "      <th>ProductStandardCost</th>\n",
       "      <th>TotalProductCost</th>\n",
       "      <th>SalesAmount</th>\n",
       "      <th>TaxAmt</th>\n",
       "      <th>Freight</th>\n",
       "      <th>CarrierTrackingNumber</th>\n",
       "      <th>CustomerPONumber</th>\n",
       "      <th>OrderDate</th>\n",
       "      <th>DueDate</th>\n",
       "      <th>ShipDate</th>\n",
       "    </tr>\n",
       "    <tr>\n",
       "      <th>SalesOrderNumber</th>\n",
       "      <th></th>\n",
       "      <th></th>\n",
       "      <th></th>\n",
       "      <th></th>\n",
       "      <th></th>\n",
       "      <th></th>\n",
       "      <th></th>\n",
       "      <th></th>\n",
       "      <th></th>\n",
       "      <th></th>\n",
       "      <th></th>\n",
       "      <th></th>\n",
       "      <th></th>\n",
       "      <th></th>\n",
       "      <th></th>\n",
       "      <th></th>\n",
       "      <th></th>\n",
       "      <th></th>\n",
       "      <th></th>\n",
       "      <th></th>\n",
       "      <th></th>\n",
       "    </tr>\n",
       "  </thead>\n",
       "  <tbody>\n",
       "    <tr>\n",
       "      <th>SO43697</th>\n",
       "      <td>310</td>\n",
       "      <td>20101229</td>\n",
       "      <td>20110110</td>\n",
       "      <td>20110105</td>\n",
       "      <td>21768</td>\n",
       "      <td>1</td>\n",
       "      <td>19</td>\n",
       "      <td>6</td>\n",
       "      <td>SO43697</td>\n",
       "      <td>1</td>\n",
       "      <td>...</td>\n",
       "      <td>2171.2942</td>\n",
       "      <td>2171.2942</td>\n",
       "      <td>3578.27</td>\n",
       "      <td>286.2616</td>\n",
       "      <td>89.4568</td>\n",
       "      <td>NaN</td>\n",
       "      <td>NaN</td>\n",
       "      <td>2010-12-29 00:00:00.000</td>\n",
       "      <td>2011-01-10 00:00:00.000</td>\n",
       "      <td>2011-01-05 00:00:00.000</td>\n",
       "    </tr>\n",
       "    <tr>\n",
       "      <th>SO43698</th>\n",
       "      <td>346</td>\n",
       "      <td>20101229</td>\n",
       "      <td>20110110</td>\n",
       "      <td>20110105</td>\n",
       "      <td>28389</td>\n",
       "      <td>1</td>\n",
       "      <td>39</td>\n",
       "      <td>7</td>\n",
       "      <td>SO43698</td>\n",
       "      <td>1</td>\n",
       "      <td>...</td>\n",
       "      <td>1912.1544</td>\n",
       "      <td>1912.1544</td>\n",
       "      <td>3399.99</td>\n",
       "      <td>271.9992</td>\n",
       "      <td>84.9998</td>\n",
       "      <td>NaN</td>\n",
       "      <td>NaN</td>\n",
       "      <td>2010-12-29 00:00:00.000</td>\n",
       "      <td>2011-01-10 00:00:00.000</td>\n",
       "      <td>2011-01-05 00:00:00.000</td>\n",
       "    </tr>\n",
       "    <tr>\n",
       "      <th>SO43699</th>\n",
       "      <td>346</td>\n",
       "      <td>20101229</td>\n",
       "      <td>20110110</td>\n",
       "      <td>20110105</td>\n",
       "      <td>25863</td>\n",
       "      <td>1</td>\n",
       "      <td>100</td>\n",
       "      <td>1</td>\n",
       "      <td>SO43699</td>\n",
       "      <td>1</td>\n",
       "      <td>...</td>\n",
       "      <td>1912.1544</td>\n",
       "      <td>1912.1544</td>\n",
       "      <td>3399.99</td>\n",
       "      <td>271.9992</td>\n",
       "      <td>84.9998</td>\n",
       "      <td>NaN</td>\n",
       "      <td>NaN</td>\n",
       "      <td>2010-12-29 00:00:00.000</td>\n",
       "      <td>2011-01-10 00:00:00.000</td>\n",
       "      <td>2011-01-05 00:00:00.000</td>\n",
       "    </tr>\n",
       "  </tbody>\n",
       "</table>\n",
       "<p>3 rows × 26 columns</p>\n",
       "</div>"
      ],
      "text/plain": [
       "                  ProductKey  OrderDateKey  DueDateKey  ShipDateKey  \\\n",
       "SalesOrderNumber                                                      \n",
       "SO43697                  310      20101229    20110110     20110105   \n",
       "SO43698                  346      20101229    20110110     20110105   \n",
       "SO43699                  346      20101229    20110110     20110105   \n",
       "\n",
       "                  CustomerKey  PromotionKey  CurrencyKey  SalesTerritoryKey  \\\n",
       "SalesOrderNumber                                                              \n",
       "SO43697                 21768             1           19                  6   \n",
       "SO43698                 28389             1           39                  7   \n",
       "SO43699                 25863             1          100                  1   \n",
       "\n",
       "                 SalesOrderNumber  SalesOrderLineNumber  ...  \\\n",
       "SalesOrderNumber                                         ...   \n",
       "SO43697                   SO43697                     1  ...   \n",
       "SO43698                   SO43698                     1  ...   \n",
       "SO43699                   SO43699                     1  ...   \n",
       "\n",
       "                  ProductStandardCost  TotalProductCost  SalesAmount  \\\n",
       "SalesOrderNumber                                                       \n",
       "SO43697                     2171.2942         2171.2942      3578.27   \n",
       "SO43698                     1912.1544         1912.1544      3399.99   \n",
       "SO43699                     1912.1544         1912.1544      3399.99   \n",
       "\n",
       "                    TaxAmt  Freight  CarrierTrackingNumber  CustomerPONumber  \\\n",
       "SalesOrderNumber                                                               \n",
       "SO43697           286.2616  89.4568                    NaN               NaN   \n",
       "SO43698           271.9992  84.9998                    NaN               NaN   \n",
       "SO43699           271.9992  84.9998                    NaN               NaN   \n",
       "\n",
       "                                OrderDate                  DueDate  \\\n",
       "SalesOrderNumber                                                     \n",
       "SO43697           2010-12-29 00:00:00.000  2011-01-10 00:00:00.000   \n",
       "SO43698           2010-12-29 00:00:00.000  2011-01-10 00:00:00.000   \n",
       "SO43699           2010-12-29 00:00:00.000  2011-01-10 00:00:00.000   \n",
       "\n",
       "                                 ShipDate  \n",
       "SalesOrderNumber                           \n",
       "SO43697           2011-01-05 00:00:00.000  \n",
       "SO43698           2011-01-05 00:00:00.000  \n",
       "SO43699           2011-01-05 00:00:00.000  \n",
       "\n",
       "[3 rows x 26 columns]"
      ]
     },
     "execution_count": 40,
     "metadata": {},
     "output_type": "execute_result"
    }
   ],
   "source": [
    "pdf_sales = pdf_sales.set_index(\"SalesOrderNumber\", drop=False)\n",
    "pdf_sales.head(3)"
   ]
  },
  {
   "cell_type": "markdown",
   "metadata": {},
   "source": [
    "#### Code Example 41 - Dask - set_index"
   ]
  },
  {
   "cell_type": "code",
   "execution_count": 41,
   "metadata": {
    "application/vnd.databricks.v1+cell": {
     "inputWidgets": {},
     "nuid": "199a463b-236d-40dc-84c8-0e8be522fca8",
     "showTitle": true,
     "title": "Code Example 30 - koalas - Setting the index"
    }
   },
   "outputs": [
    {
     "data": {
      "text/html": [
       "<div>\n",
       "<style scoped>\n",
       "    .dataframe tbody tr th:only-of-type {\n",
       "        vertical-align: middle;\n",
       "    }\n",
       "\n",
       "    .dataframe tbody tr th {\n",
       "        vertical-align: top;\n",
       "    }\n",
       "\n",
       "    .dataframe thead th {\n",
       "        text-align: right;\n",
       "    }\n",
       "</style>\n",
       "<table border=\"1\" class=\"dataframe\">\n",
       "  <thead>\n",
       "    <tr style=\"text-align: right;\">\n",
       "      <th></th>\n",
       "      <th>ProductKey</th>\n",
       "      <th>OrderDateKey</th>\n",
       "      <th>DueDateKey</th>\n",
       "      <th>ShipDateKey</th>\n",
       "      <th>CustomerKey</th>\n",
       "      <th>PromotionKey</th>\n",
       "      <th>CurrencyKey</th>\n",
       "      <th>SalesTerritoryKey</th>\n",
       "      <th>SalesOrderNumber</th>\n",
       "      <th>SalesOrderLineNumber</th>\n",
       "      <th>...</th>\n",
       "      <th>ProductStandardCost</th>\n",
       "      <th>TotalProductCost</th>\n",
       "      <th>SalesAmount</th>\n",
       "      <th>TaxAmt</th>\n",
       "      <th>Freight</th>\n",
       "      <th>CarrierTrackingNumber</th>\n",
       "      <th>CustomerPONumber</th>\n",
       "      <th>OrderDate</th>\n",
       "      <th>DueDate</th>\n",
       "      <th>ShipDate</th>\n",
       "    </tr>\n",
       "    <tr>\n",
       "      <th>SalesOrderNumber</th>\n",
       "      <th></th>\n",
       "      <th></th>\n",
       "      <th></th>\n",
       "      <th></th>\n",
       "      <th></th>\n",
       "      <th></th>\n",
       "      <th></th>\n",
       "      <th></th>\n",
       "      <th></th>\n",
       "      <th></th>\n",
       "      <th></th>\n",
       "      <th></th>\n",
       "      <th></th>\n",
       "      <th></th>\n",
       "      <th></th>\n",
       "      <th></th>\n",
       "      <th></th>\n",
       "      <th></th>\n",
       "      <th></th>\n",
       "      <th></th>\n",
       "      <th></th>\n",
       "    </tr>\n",
       "  </thead>\n",
       "  <tbody>\n",
       "    <tr>\n",
       "      <th>SO43697</th>\n",
       "      <td>310</td>\n",
       "      <td>20101229</td>\n",
       "      <td>20110110</td>\n",
       "      <td>20110105</td>\n",
       "      <td>21768</td>\n",
       "      <td>1</td>\n",
       "      <td>19</td>\n",
       "      <td>6</td>\n",
       "      <td>SO43697</td>\n",
       "      <td>1</td>\n",
       "      <td>...</td>\n",
       "      <td>2171.2942</td>\n",
       "      <td>2171.2942</td>\n",
       "      <td>3578.27</td>\n",
       "      <td>286.2616</td>\n",
       "      <td>89.4568</td>\n",
       "      <td>NaN</td>\n",
       "      <td>NaN</td>\n",
       "      <td>2010-12-29 00:00:00.000</td>\n",
       "      <td>2011-01-10 00:00:00.000</td>\n",
       "      <td>2011-01-05 00:00:00.000</td>\n",
       "    </tr>\n",
       "    <tr>\n",
       "      <th>SO43698</th>\n",
       "      <td>346</td>\n",
       "      <td>20101229</td>\n",
       "      <td>20110110</td>\n",
       "      <td>20110105</td>\n",
       "      <td>28389</td>\n",
       "      <td>1</td>\n",
       "      <td>39</td>\n",
       "      <td>7</td>\n",
       "      <td>SO43698</td>\n",
       "      <td>1</td>\n",
       "      <td>...</td>\n",
       "      <td>1912.1544</td>\n",
       "      <td>1912.1544</td>\n",
       "      <td>3399.99</td>\n",
       "      <td>271.9992</td>\n",
       "      <td>84.9998</td>\n",
       "      <td>NaN</td>\n",
       "      <td>NaN</td>\n",
       "      <td>2010-12-29 00:00:00.000</td>\n",
       "      <td>2011-01-10 00:00:00.000</td>\n",
       "      <td>2011-01-05 00:00:00.000</td>\n",
       "    </tr>\n",
       "    <tr>\n",
       "      <th>SO43699</th>\n",
       "      <td>346</td>\n",
       "      <td>20101229</td>\n",
       "      <td>20110110</td>\n",
       "      <td>20110105</td>\n",
       "      <td>25863</td>\n",
       "      <td>1</td>\n",
       "      <td>100</td>\n",
       "      <td>1</td>\n",
       "      <td>SO43699</td>\n",
       "      <td>1</td>\n",
       "      <td>...</td>\n",
       "      <td>1912.1544</td>\n",
       "      <td>1912.1544</td>\n",
       "      <td>3399.99</td>\n",
       "      <td>271.9992</td>\n",
       "      <td>84.9998</td>\n",
       "      <td>NaN</td>\n",
       "      <td>NaN</td>\n",
       "      <td>2010-12-29 00:00:00.000</td>\n",
       "      <td>2011-01-10 00:00:00.000</td>\n",
       "      <td>2011-01-05 00:00:00.000</td>\n",
       "    </tr>\n",
       "  </tbody>\n",
       "</table>\n",
       "<p>3 rows × 26 columns</p>\n",
       "</div>"
      ],
      "text/plain": [
       "                  ProductKey  OrderDateKey  DueDateKey  ShipDateKey  \\\n",
       "SalesOrderNumber                                                      \n",
       "SO43697                  310      20101229    20110110     20110105   \n",
       "SO43698                  346      20101229    20110110     20110105   \n",
       "SO43699                  346      20101229    20110110     20110105   \n",
       "\n",
       "                  CustomerKey  PromotionKey  CurrencyKey  SalesTerritoryKey  \\\n",
       "SalesOrderNumber                                                              \n",
       "SO43697                 21768             1           19                  6   \n",
       "SO43698                 28389             1           39                  7   \n",
       "SO43699                 25863             1          100                  1   \n",
       "\n",
       "                 SalesOrderNumber  SalesOrderLineNumber  ...  \\\n",
       "SalesOrderNumber                                         ...   \n",
       "SO43697                   SO43697                     1  ...   \n",
       "SO43698                   SO43698                     1  ...   \n",
       "SO43699                   SO43699                     1  ...   \n",
       "\n",
       "                  ProductStandardCost  TotalProductCost  SalesAmount  \\\n",
       "SalesOrderNumber                                                       \n",
       "SO43697                     2171.2942         2171.2942      3578.27   \n",
       "SO43698                     1912.1544         1912.1544      3399.99   \n",
       "SO43699                     1912.1544         1912.1544      3399.99   \n",
       "\n",
       "                    TaxAmt  Freight  CarrierTrackingNumber  CustomerPONumber  \\\n",
       "SalesOrderNumber                                                               \n",
       "SO43697           286.2616  89.4568                    NaN               NaN   \n",
       "SO43698           271.9992  84.9998                    NaN               NaN   \n",
       "SO43699           271.9992  84.9998                    NaN               NaN   \n",
       "\n",
       "                                OrderDate                  DueDate  \\\n",
       "SalesOrderNumber                                                     \n",
       "SO43697           2010-12-29 00:00:00.000  2011-01-10 00:00:00.000   \n",
       "SO43698           2010-12-29 00:00:00.000  2011-01-10 00:00:00.000   \n",
       "SO43699           2010-12-29 00:00:00.000  2011-01-10 00:00:00.000   \n",
       "\n",
       "                                 ShipDate  \n",
       "SalesOrderNumber                           \n",
       "SO43697           2011-01-05 00:00:00.000  \n",
       "SO43698           2011-01-05 00:00:00.000  \n",
       "SO43699           2011-01-05 00:00:00.000  \n",
       "\n",
       "[3 rows x 26 columns]"
      ]
     },
     "execution_count": 41,
     "metadata": {},
     "output_type": "execute_result"
    }
   ],
   "source": [
    "ddf_sales = ddf_sales.set_index(\"SalesOrderNumber\", drop=False)\n",
    "ddf_sales.head(3)"
   ]
  },
  {
   "cell_type": "markdown",
   "metadata": {},
   "source": [
    "## What about plotting?"
   ]
  },
  {
   "cell_type": "markdown",
   "metadata": {
    "application/vnd.databricks.v1+cell": {
     "inputWidgets": {},
     "nuid": "6161e434-2d95-4c6c-b6d9-7bd460501afa",
     "showTitle": false,
     "title": ""
    }
   },
   "source": [
    "<div style=\"background-color:darkblue; text-align:left; vertical-align: top;\">\n",
    "<span style=\"color:white\">\n",
    "    <h2>Take-A-Ways</h2>\n",
    "    \n",
    "### - pandas syntax vs Dask had mixed results!\n",
    "### - Some code must be rethought.\n",
    "### - Name your dataframes so you can tell which is pandas and which is Dask.\n",
    "</span>\n",
    "</div>"
   ]
  }
 ],
 "metadata": {
  "anaconda-cloud": {},
  "application/vnd.databricks.v1+notebook": {
   "dashboards": [],
   "language": "python",
   "notebookMetadata": {
    "pythonIndentUnit": 2
   },
   "notebookName": "Lesson_32_IntroToKoalas_basics_part_1",
   "notebookOrigID": 4090377324538887,
   "widgets": {}
  },
  "interpreter": {
   "hash": "15b0083f1850e8bf0d41bef0d753b5e596b9ca1183a11f045f4ea18f290943fa"
  },
  "kernelspec": {
   "display_name": "Python 3.9.13 64-bit",
   "language": "python",
   "name": "python3"
  },
  "language_info": {
   "codemirror_mode": {
    "name": "ipython",
    "version": 3
   },
   "file_extension": ".py",
   "mimetype": "text/x-python",
   "name": "python",
   "nbconvert_exporter": "python",
   "pygments_lexer": "ipython3",
   "version": "3.9.13"
  }
 },
 "nbformat": 4,
 "nbformat_minor": 4
}
