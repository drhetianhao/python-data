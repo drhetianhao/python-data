{
 "cells": [
  {
   "cell_type": "markdown",
   "metadata": {},
   "source": [
    "https://www.supplychaindataanalytics.com/continuous-linear-optimization-in-pulp-python/"
   ]
  },
  {
   "cell_type": "code",
   "execution_count": 1,
   "metadata": {},
   "outputs": [
    {
     "name": "stderr",
     "output_type": "stream",
     "text": [
      "c:\\Users\\hetia\\AppData\\Local\\Programs\\Python\\Python39\\lib\\site-packages\\pulp\\pulp.py:1352: UserWarning: Spaces are not permitted in the name. Converted to '_'\n",
      "  warnings.warn(\"Spaces are not permitted in the name. Converted to '_'\")\n"
     ]
    },
    {
     "data": {
      "text/plain": [
       "some_title:\n",
       "MAXIMIZE\n",
       "2*x1 + 3*x2 + 0\n",
       "SUBJECT TO\n",
       "_C1: x1 + x2 <= 10\n",
       "\n",
       "_C2: 2 x1 + x2 <= 15\n",
       "\n",
       "VARIABLES\n",
       "x1 Continuous\n",
       "x2 Continuous"
      ]
     },
     "execution_count": 1,
     "metadata": {},
     "output_type": "execute_result"
    }
   ],
   "source": [
    "# importing PuLP (can be installed with pip install, e.g. in the anaconda prompt)\n",
    "import pulp\n",
    "\n",
    "# use the LpProblem function to initialize a statement of our linear optimization problem\n",
    "linearProblem = pulp.LpProblem(\n",
    "    \"some title\", pulp.LpMaximize\n",
    ")  # we maximize, and thus use LpMaximize as parameter\n",
    "\n",
    "# using the PuLP module optimization variables have to be declared with the LpVariable function\n",
    "x1 = pulp.LpVariable(\"x1\", lowBound=0)  # x1 has only lower bound, no upper bound\n",
    "x2 = pulp.LpVariable(\"x2\", lowBound=0)  # x2 has only lower bound, no upper bound\n",
    "\n",
    "# using the += operator we can add the objective function to the problem declared\n",
    "linearProblem += 2 * x1 + 3 * x2\n",
    "\n",
    "# same approach is valid for adding constraints\n",
    "linearProblem += x1 + x2 <= 10\n",
    "linearProblem += 2 * x1 + x2 <= 15\n",
    "\n",
    "# we can review our problem now\n",
    "linearProblem"
   ]
  },
  {
   "cell_type": "code",
   "execution_count": 2,
   "metadata": {},
   "outputs": [
    {
     "data": {
      "text/plain": [
       "'Optimal'"
      ]
     },
     "execution_count": 2,
     "metadata": {},
     "output_type": "execute_result"
    }
   ],
   "source": [
    "# solve the problem, using the standard PuLP solver for continuous linear optimization problems\n",
    "solution = linearProblem.solve()\n",
    "\n",
    "# see if optimization run was successful, using LpStatus from the PuLP module\n",
    "pulp.LpStatus[solution]"
   ]
  },
  {
   "cell_type": "code",
   "execution_count": 3,
   "metadata": {},
   "outputs": [
    {
     "data": {
      "text/plain": [
       "30.0"
      ]
     },
     "execution_count": 3,
     "metadata": {},
     "output_type": "execute_result"
    }
   ],
   "source": [
    "# the optimal objective function value is accessed with the value function in the following way\n",
    "pulp.value(linearProblem.objective)"
   ]
  },
  {
   "cell_type": "code",
   "execution_count": 4,
   "metadata": {},
   "outputs": [
    {
     "data": {
      "text/plain": [
       "0.0"
      ]
     },
     "execution_count": 4,
     "metadata": {},
     "output_type": "execute_result"
    }
   ],
   "source": [
    "# the optimal solution for x1 is accessed with the value function as well (but we already have x1 as handler)\n",
    "pulp.value(x1)"
   ]
  },
  {
   "cell_type": "code",
   "execution_count": 5,
   "metadata": {},
   "outputs": [
    {
     "data": {
      "text/plain": [
       "10.0"
      ]
     },
     "execution_count": 5,
     "metadata": {},
     "output_type": "execute_result"
    }
   ],
   "source": [
    "# lastly, below I show optimal solution for x2\n",
    "pulp.value(x2)"
   ]
  },
  {
   "cell_type": "markdown",
   "metadata": {},
   "source": [
    "https://www.supplychaindataanalytics.com/multi-objective-linear-optimization-with-pulp-in-python/\n",
    "\n",
    "Approach 1: Maximizing for one objective, then adding it as a constraint and solving for the other objective"
   ]
  },
  {
   "cell_type": "code",
   "execution_count": 2,
   "metadata": {},
   "outputs": [
    {
     "name": "stdout",
     "output_type": "stream",
     "text": [
      "Optimal ; max value = 30.0 ; x1_opt = 0.0 ; x2_opt = 10.0\n"
     ]
    },
    {
     "name": "stderr",
     "output_type": "stream",
     "text": [
      "c:\\Users\\hetia\\AppData\\Local\\Programs\\Python\\Python39\\lib\\site-packages\\pulp\\pulp.py:1352: UserWarning: Spaces are not permitted in the name. Converted to '_'\n",
      "  warnings.warn(\"Spaces are not permitted in the name. Converted to '_'\")\n"
     ]
    }
   ],
   "source": [
    "# first, import PuLP\n",
    "import pulp\n",
    "\n",
    "# then, conduct initial declaration of problem\n",
    "linearProblem = pulp.LpProblem(\"Maximizing for first objective\", pulp.LpMaximize)\n",
    "\n",
    "# delcare optimization variables, using PuLP\n",
    "x1 = pulp.LpVariable(\"x1\", lowBound=0)\n",
    "x2 = pulp.LpVariable(\"x2\", lowBound=0)\n",
    "\n",
    "# add (first) objective function to the linear problem statement\n",
    "linearProblem += 2 * x1 + 3 * x2\n",
    "\n",
    "# add the constraints to the problem\n",
    "linearProblem += x1 + x2 <= 10\n",
    "linearProblem += 2 * x1 + x2 <= 15\n",
    "\n",
    "# solve with default solver, maximizing the first objective\n",
    "solution = linearProblem.solve()\n",
    "\n",
    "# output information if optimum was found, what the maximal objective value is and what the optimal point is\n",
    "print(\n",
    "    str(pulp.LpStatus[solution])\n",
    "    + \" ; max value = \"\n",
    "    + str(pulp.value(linearProblem.objective))\n",
    "    + \" ; x1_opt = \"\n",
    "    + str(pulp.value(x1))\n",
    "    + \" ; x2_opt = \"\n",
    "    + str(pulp.value(x2))\n",
    ")"
   ]
  },
  {
   "cell_type": "code",
   "execution_count": 4,
   "metadata": {},
   "outputs": [
    {
     "data": {
      "text/plain": [
       "Maximize_second_objective:\n",
       "MAXIMIZE\n",
       "4*x1 + -2*x2 + 0\n",
       "SUBJECT TO\n",
       "_C1: x1 + x2 <= 10\n",
       "\n",
       "_C2: 2 x1 + x2 <= 15\n",
       "\n",
       "_C3: 2 x1 + 3 x2 >= 30\n",
       "\n",
       "VARIABLES\n",
       "x1 Continuous\n",
       "x2 Continuous"
      ]
     },
     "execution_count": 4,
     "metadata": {},
     "output_type": "execute_result"
    }
   ],
   "source": [
    "# remodel the problem statement\n",
    "linearProblem = pulp.LpProblem(\"Maximize second objective\", pulp.LpMaximize)\n",
    "linearProblem += 4 * x1 - 2 * x2\n",
    "linearProblem += x1 + x2 <= 10\n",
    "linearProblem += 2 * x1 + x2 <= 15\n",
    "linearProblem += 2 * x1 + 3 * x2 >= 30\n",
    "\n",
    "# review problem statement after remodelling\n",
    "linearProblem"
   ]
  },
  {
   "cell_type": "code",
   "execution_count": 5,
   "metadata": {},
   "outputs": [
    {
     "name": "stdout",
     "output_type": "stream",
     "text": [
      "Optimal ; max value = -19.999999999995993 ; x1_opt = 1.0018653e-12 ; x2_opt = 10.0\n"
     ]
    }
   ],
   "source": [
    "# apply default solver\n",
    "solution = linearProblem.solve()\n",
    "\n",
    "# output a string summarizing whether optimum was found, and if so what the optimal solution\n",
    "print(\n",
    "    str(pulp.LpStatus[solution])\n",
    "    + \" ; max value = \"\n",
    "    + str(pulp.value(linearProblem.objective))\n",
    "    + \" ; x1_opt = \"\n",
    "    + str(pulp.value(x1))\n",
    "    + \" ; x2_opt = \"\n",
    "    + str(pulp.value(x2))\n",
    ")"
   ]
  },
  {
   "cell_type": "markdown",
   "metadata": {},
   "source": [
    "Approach 2: Combine objectives, using sampled weights and iterations with defined step-size\n",
    "\n",
    "A typical approach in a situation like this is to identify an efficient frontier. In economics this is e.g. known as “pareto optimality”. To construct such an approach I sample alpha in steps of 0.01. For each value of alpha I restate the problem, using PuLP – and solve it."
   ]
  },
  {
   "cell_type": "code",
   "execution_count": 7,
   "metadata": {},
   "outputs": [
    {
     "name": "stderr",
     "output_type": "stream",
     "text": [
      "c:\\Users\\hetia\\AppData\\Local\\Programs\\Python\\Python39\\lib\\site-packages\\pulp\\pulp.py:1352: UserWarning: Spaces are not permitted in the name. Converted to '_'\n",
      "  warnings.warn(\"Spaces are not permitted in the name. Converted to '_'\")\n"
     ]
    },
    {
     "data": {
      "image/png": "[encoded data removed]",
      "text/plain": [
       "<Figure size 1440x720 with 1 Axes>"
      ]
     },
     "metadata": {
      "needs_background": "light"
     },
     "output_type": "display_data"
    }
   ],
   "source": [
    "# import matplotlib.pyplot\n",
    "import matplotlib.pyplot as plt\n",
    "\n",
    "# import pandas and numpy for being able to store data in DataFrame format\n",
    "import numpy as np\n",
    "import pandas as pd\n",
    "\n",
    "# define step-size\n",
    "stepSize = 0.01\n",
    "\n",
    "# initialize empty DataFrame for storing optimization outcomes\n",
    "solutionTable = pd.DataFrame(columns=[\"alpha\", \"x1_opt\", \"x2_opt\", \"obj_value\"])\n",
    "\n",
    "# iterate through alpha values from 0 to 1 with stepSize, and write PuLP solutions into solutionTable\n",
    "for i in range(0, 101, int(stepSize * 100)):\n",
    "    # declare the problem again\n",
    "    linearProblem = pulp.LpProblem(\n",
    "        \"Multi-objective linear maximization\", pulp.LpMaximize\n",
    "    )\n",
    "    # add the objective function at sampled alpha\n",
    "    linearProblem += (i / 100) * (2 * x1 + 3 * x2) + (1 - i / 100) * (4 * x1 - 2 * x2)\n",
    "    # add the constraints\n",
    "    linearProblem += x1 + x2 <= 10\n",
    "    linearProblem += 2 * x1 + x2 <= 15\n",
    "    # solve the problem\n",
    "    solution = linearProblem.solve()\n",
    "    # write solutions into DataFrame\n",
    "    solutionTable.loc[int(i / (stepSize * 100))] = [\n",
    "        i / 100,\n",
    "        pulp.value(x1),\n",
    "        pulp.value(x2),\n",
    "        pulp.value(linearProblem.objective),\n",
    "    ]\n",
    "\n",
    "# visualize optimization outcome, using matplotlib.pyplot\n",
    "# -- set figure size\n",
    "plt.figure(figsize=(20, 10))\n",
    "# -- create line plot\n",
    "plt.plot(solutionTable[\"alpha\"], solutionTable[\"obj_value\"], color=\"red\")\n",
    "# -- add axis labels\n",
    "plt.xlabel(\"alpha\", size=20)\n",
    "plt.ylabel(\"obj_value\", size=20)\n",
    "# -- add plot title\n",
    "plt.title(\"Optimal combined objective function value as a function of alpha\", size=32)\n",
    "# -- show plot\n",
    "plt.show()"
   ]
  },
  {
   "cell_type": "code",
   "execution_count": 8,
   "metadata": {},
   "outputs": [
    {
     "data": {
      "text/html": [
       "<div>\n",
       "<style scoped>\n",
       "    .dataframe tbody tr th:only-of-type {\n",
       "        vertical-align: middle;\n",
       "    }\n",
       "\n",
       "    .dataframe tbody tr th {\n",
       "        vertical-align: top;\n",
       "    }\n",
       "\n",
       "    .dataframe thead th {\n",
       "        text-align: right;\n",
       "    }\n",
       "</style>\n",
       "<table border=\"1\" class=\"dataframe\">\n",
       "  <thead>\n",
       "    <tr style=\"text-align: right;\">\n",
       "      <th></th>\n",
       "      <th>alpha</th>\n",
       "      <th>x1_opt</th>\n",
       "      <th>x2_opt</th>\n",
       "      <th>obj_value</th>\n",
       "    </tr>\n",
       "  </thead>\n",
       "  <tbody>\n",
       "    <tr>\n",
       "      <th>0</th>\n",
       "      <td>0.00</td>\n",
       "      <td>7.5</td>\n",
       "      <td>0.0</td>\n",
       "      <td>30.00</td>\n",
       "    </tr>\n",
       "    <tr>\n",
       "      <th>1</th>\n",
       "      <td>0.01</td>\n",
       "      <td>7.5</td>\n",
       "      <td>0.0</td>\n",
       "      <td>29.85</td>\n",
       "    </tr>\n",
       "    <tr>\n",
       "      <th>2</th>\n",
       "      <td>0.02</td>\n",
       "      <td>7.5</td>\n",
       "      <td>0.0</td>\n",
       "      <td>29.70</td>\n",
       "    </tr>\n",
       "    <tr>\n",
       "      <th>3</th>\n",
       "      <td>0.03</td>\n",
       "      <td>7.5</td>\n",
       "      <td>0.0</td>\n",
       "      <td>29.55</td>\n",
       "    </tr>\n",
       "    <tr>\n",
       "      <th>4</th>\n",
       "      <td>0.04</td>\n",
       "      <td>7.5</td>\n",
       "      <td>0.0</td>\n",
       "      <td>29.40</td>\n",
       "    </tr>\n",
       "  </tbody>\n",
       "</table>\n",
       "</div>"
      ],
      "text/plain": [
       "   alpha  x1_opt  x2_opt  obj_value\n",
       "0   0.00     7.5     0.0      30.00\n",
       "1   0.01     7.5     0.0      29.85\n",
       "2   0.02     7.5     0.0      29.70\n",
       "3   0.03     7.5     0.0      29.55\n",
       "4   0.04     7.5     0.0      29.40"
      ]
     },
     "execution_count": 8,
     "metadata": {},
     "output_type": "execute_result"
    }
   ],
   "source": [
    "solutionTable.head()"
   ]
  },
  {
   "cell_type": "markdown",
   "metadata": {},
   "source": [
    "https://www.supplychaindataanalytics.com/multi-objective-linear-optimization-with-weighted-sub-problems-using-pulp-in-python/\n",
    "\n",
    "Multi-objective LP with sub-problem weights"
   ]
  },
  {
   "cell_type": "code",
   "execution_count": 9,
   "metadata": {},
   "outputs": [
    {
     "name": "stderr",
     "output_type": "stream",
     "text": [
      "c:\\Users\\hetia\\AppData\\Local\\Programs\\Python\\Python39\\lib\\site-packages\\pulp\\pulp.py:1352: UserWarning: Spaces are not permitted in the name. Converted to '_'\n",
      "  warnings.warn(\"Spaces are not permitted in the name. Converted to '_'\")\n"
     ]
    },
    {
     "data": {
      "image/png": "[encoded data removed]",
      "text/plain": [
       "<Figure size 1440x720 with 1 Axes>"
      ]
     },
     "metadata": {
      "needs_background": "light"
     },
     "output_type": "display_data"
    }
   ],
   "source": [
    "# import PuLP for modelling and solving problems\n",
    "import pulp\n",
    "\n",
    "# import matplotlib.pyplot for visualization\n",
    "import matplotlib.pyplot as plt\n",
    "\n",
    "# import pandas and numpy for being able to store solutions in DataFrame\n",
    "import numpy as np\n",
    "import pandas as pd\n",
    "\n",
    "# define step-size\n",
    "stepSize = 0.01\n",
    "\n",
    "# initialize empty DataFrame for storing optimization outcomes\n",
    "solutionTable = pd.DataFrame(columns=[\"beta\", \"x1_opt\", \"x2_opt\", \"obj_value\"])\n",
    "\n",
    "# declare optimization variables using PuLP and LpVariable\n",
    "x1 = pulp.LpVariable(\"x1\", lowBound=0)\n",
    "x2 = pulp.LpVariable(\"x2\", lowBound=0)\n",
    "\n",
    "# model and solve sub-problem no. 1\n",
    "linearProblem = pulp.LpProblem(\"First sub-problem\", pulp.LpMaximize)\n",
    "linearProblem += 2 * x1 + 3 * x2  # add objective no. 1\n",
    "linearProblem += x1 + x2 <= 10  # add contraints from original problem statement\n",
    "linearProblem += 2 * x1 + x2 <= 15\n",
    "solution = linearProblem.solve()\n",
    "\n",
    "# store optimal outcome of sub-problem no. 1 into variable\n",
    "optimalObj1 = pulp.value(linearProblem.objective)\n",
    "\n",
    "# iterate through beta values from 0 to 1 with stepSize, and write PuLP solutions into solutionTable\n",
    "for i in range(0, 101, int(stepSize * 100)):\n",
    "    # declare the problem again\n",
    "    linearProblem = pulp.LpProblem(\n",
    "        \"Multi-objective linear maximization\", pulp.LpMaximize\n",
    "    )\n",
    "    # add the second objective as objective function to this sub-problem\n",
    "    linearProblem += 4 * x1 - 2 * x2\n",
    "    # add the constraints from original problem statement\n",
    "    linearProblem += x1 + x2 <= 10\n",
    "    linearProblem += 2 * x1 + x2 <= 15\n",
    "    # add additional constraint at level beta, considering optimal outcome of sub-problem no. 1\n",
    "    linearProblem += 2 * x1 + 3 * x2 >= (i / 100) * optimalObj1\n",
    "    # solve the problem\n",
    "    solution = linearProblem.solve()\n",
    "    # write solutions into DataFrame\n",
    "    solutionTable.loc[int(i / (stepSize * 100))] = [\n",
    "        i / 100,\n",
    "        pulp.value(x1),\n",
    "        pulp.value(x2),\n",
    "        pulp.value(linearProblem.objective),\n",
    "    ]\n",
    "\n",
    "# visualize optimization outcome, using matplotlib.pyplot\n",
    "# -- set figure size\n",
    "plt.figure(figsize=(20, 10))\n",
    "# -- create line plot\n",
    "plt.plot(solutionTable[\"beta\"], solutionTable[\"obj_value\"], color=\"red\")\n",
    "# -- add axis labels\n",
    "plt.xlabel(\"beta\", size=20)\n",
    "plt.ylabel(\"obj_value\", size=20)\n",
    "# -- add plot title\n",
    "plt.title(\"Optimal outcome of sub-problem 2, depending on beta\", size=32)\n",
    "# -- show plot\n",
    "plt.show()"
   ]
  }
 ],
 "metadata": {
  "kernelspec": {
   "display_name": "Python 3.9.13 64-bit",
   "language": "python",
   "name": "python3"
  },
  "language_info": {
   "codemirror_mode": {
    "name": "ipython",
    "version": 3
   },
   "file_extension": ".py",
   "mimetype": "text/x-python",
   "name": "python",
   "nbconvert_exporter": "python",
   "pygments_lexer": "ipython3",
   "version": "3.9.13"
  },
  "orig_nbformat": 4,
  "vscode": {
   "interpreter": {
    "hash": "15b0083f1850e8bf0d41bef0d753b5e596b9ca1183a11f045f4ea18f290943fa"
   }
  }
 },
 "nbformat": 4,
 "nbformat_minor": 2
}
