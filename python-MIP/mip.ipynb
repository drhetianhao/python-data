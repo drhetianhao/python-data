{
 "cells": [
  {
   "cell_type": "code",
   "execution_count": 44,
   "metadata": {},
   "outputs": [],
   "source": [
    "import mip\n",
    "from mip import xsum, minimize, BINARY, OptimizationStatus"
   ]
  },
  {
   "cell_type": "code",
   "execution_count": 45,
   "metadata": {},
   "outputs": [],
   "source": [
    "mipmodel = mip.Model()"
   ]
  },
  {
   "cell_type": "code",
   "execution_count": 46,
   "metadata": {},
   "outputs": [],
   "source": [
    "PCs = [\"PC1\", \"PC2\", \"PC3\"]\n",
    "Services = [\"g\", \"p\", \"s\"]  # generic, primary, secondary\n",
    "\n",
    "a = {\"g\": 680, \"p\": 200, \"s\": 200}\n",
    "\n",
    "b = {\"PC1\": 160 / 680, \"PC2\": 200 / 680, \"PC3\": 300 / 680}\n",
    "\n",
    "d = {\"PC1\": 200, \"PC2\": 500, \"PC3\": 1000}\n",
    "\n",
    "c = {\"p\": {\"PC1\": 0, \"PC2\": 0, \"PC3\": 200}, \"s\": {\"PC1\": 0, \"PC2\": 0, \"PC3\": 200}}\n",
    "\n",
    "e = {\n",
    "    \"g\": {\n",
    "        \"PC1\": {\"PC2\": 0, \"PC3\": 680},\n",
    "        \"PC2\": {\"PC1\": 0, \"PC3\": 680},\n",
    "        \"PC3\": {\"PC1\": 0, \"PC2\": 0},\n",
    "    }\n",
    "}\n",
    "\n",
    "f = {\"PC1\": 1000, \"PC2\": 1000, \"PC3\": 1000}"
   ]
  },
  {
   "cell_type": "code",
   "execution_count": 47,
   "metadata": {},
   "outputs": [],
   "source": [
    "# x[h][j] is fraction of service h on PC j\n",
    "# for the generic service g, these are continouse, non-negative variables, which is the default\n",
    "# for the p and s servicer, these are binary variables\n",
    "\n",
    "x = {}\n",
    "for h in Services:\n",
    "    if h == \"g\":\n",
    "        x[h] = {j: mipmodel.add_var() for j in PCs}\n",
    "    else:\n",
    "        x[h] = {j: mipmodel.add_var(var_type=BINARY) for j in PCs}\n",
    "\n",
    "# w[h][i][j] is the fraction of service h moved from PC i to PC j, (only for service g)\n",
    "w = {\"g\": {}}\n",
    "for i in PCs:\n",
    "    w[\"g\"][i] = {}\n",
    "    for j in PCs:\n",
    "        if j != i:\n",
    "            w[\"g\"][i][j] = mipmodel.add_var()\n",
    "\n",
    "# y[j] is 1 if PC j is part of the final config\n",
    "y = {j: mipmodel.add_var(var_type=BINARY) for j in PCs}"
   ]
  },
  {
   "cell_type": "code",
   "execution_count": 48,
   "metadata": {},
   "outputs": [],
   "source": [
    "# assignmentconstraint[h] states all GB associated with service h is allocated to one or some of the PCs\n",
    "assignmentconstraint = {}\n",
    "for h in Services:\n",
    "    mipmodel += xsum(x[h][j] for j in PCs) == 1, \"ass_\" + h\n",
    "    assignmentconstraint[h] = \"ass_\" + h\n",
    "\n",
    "changeconstraint = {}\n",
    "for j in PCs:\n",
    "    mipmodel += (\n",
    "        x[\"g\"][j]\n",
    "        + xsum(w[\"g\"][j][i] for i in PCs if j != i)\n",
    "        - xsum(w[\"g\"][i][j] for i in PCs if j != i)\n",
    "        == b[j],\n",
    "        \"change_\" + j,\n",
    "    )\n",
    "    changeconstraint[j] = \"change_\" + j\n",
    "\n",
    "# capacityconstraint[j] states that the amount of GB alloated to PC j does not exceed its disk size\n",
    "# (or is equal to 0 if the PC is not in the final config)\n",
    "capacityconstraint = {}\n",
    "for j in PCs:\n",
    "    mipmodel += xsum(a[h] * x[h][j] for h in Services) - d[j] * y[j] <= 0, \"cap_\" + j\n",
    "    capacityconstraint[j] = \"cap_\" + j"
   ]
  },
  {
   "cell_type": "code",
   "execution_count": 49,
   "metadata": {},
   "outputs": [],
   "source": [
    "# diversityconstraint[j] states that each PC can only be designated to one of \"p\" or \"s\"\n",
    "diversityconstraint = {}\n",
    "for j in PCs:\n",
    "    mipmodel += x[\"p\"][j] + x[\"s\"][j] <= 1, \"diversity_\" + j\n",
    "    diversityconstraint[j] = \"diversity_\" + j"
   ]
  },
  {
   "cell_type": "code",
   "execution_count": 50,
   "metadata": {},
   "outputs": [],
   "source": [
    "mipmodel.objective = minimize(\n",
    "    xsum(c[h][j] * x[h][j] for h in [\"p\", \"s\"] for j in PCs)\n",
    "    + xsum(e[\"g\"][i][j] * w[\"g\"][i][j] for i in PCs for j in PCs if j != i)\n",
    "    + xsum(f[j] * y[j] for j in PCs)\n",
    ")"
   ]
  },
  {
   "cell_type": "code",
   "execution_count": 54,
   "metadata": {},
   "outputs": [
    {
     "name": "stdout",
     "output_type": "stream",
     "text": [
      "working on solutions\n",
      "finished\n"
     ]
    }
   ],
   "source": [
    "print(\"working on solutions\")\n",
    "mipmodel.max_gap = 0.02\n",
    "status = mipmodel.optimize(max_seconds=300)\n",
    "if status == OptimizationStatus.OPTIMAL:\n",
    "    print(\"optimal solution found - cost {} \".format(mipmodel.objective_value))\n",
    "elif status == OptimizationStatus.FEASIBLE:\n",
    "    print(\n",
    "        \"sol.cost {} found, best possible: {}\".format(\n",
    "            mipmodel.objective_value, mipmodel.objective_bound\n",
    "        )\n",
    "    )\n",
    "elif status == OptimizationStatus.NO_SOLUTION_FOUND:\n",
    "    print(\n",
    "        \"no feasible solution found, lower bound is: {}\".format(mipmodel.objetive_bound)\n",
    "    )\n",
    "if status == OptimizationStatus.OPTIMAL or status == OptimizationStatus.FEASIBLE:\n",
    "    print(\"solution: \")\n",
    "    for h in x:\n",
    "        for j in PCs:\n",
    "            if x[h][j].x > 1e-6:\n",
    "                print(\"x\", h, j, x[h][j].x)\n",
    "\n",
    "    for j in y:\n",
    "        if y[j].x > 1e-6:\n",
    "            print(\"y\", j, y[j].x)\n",
    "    for i in PCs:\n",
    "        for j in PCs:\n",
    "            if i != j and w[\"g\"][i][j].x > 1e-6:\n",
    "                print(\"w[g]\", i, j, w[\"g\"][i][j].x)\n",
    "print(\"finished\")"
   ]
  }
 ],
 "metadata": {
  "interpreter": {
   "hash": "15b0083f1850e8bf0d41bef0d753b5e596b9ca1183a11f045f4ea18f290943fa"
  },
  "kernelspec": {
   "display_name": "Python 3.9.12 64-bit",
   "language": "python",
   "name": "python3"
  },
  "language_info": {
   "codemirror_mode": {
    "name": "ipython",
    "version": 3
   },
   "file_extension": ".py",
   "mimetype": "text/x-python",
   "name": "python",
   "nbconvert_exporter": "python",
   "pygments_lexer": "ipython3",
   "version": "3.9.12"
  },
  "orig_nbformat": 4
 },
 "nbformat": 4,
 "nbformat_minor": 2
}
