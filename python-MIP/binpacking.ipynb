{
 "cells": [
  {
   "cell_type": "code",
   "execution_count": 2,
   "metadata": {},
   "outputs": [],
   "source": [
    "import mip\n",
    "from mip import xsum, minimize, BINARY, OptimizationStatus\n",
    "\n",
    "mipmodel = mip.Model()"
   ]
  },
  {
   "cell_type": "code",
   "execution_count": 3,
   "metadata": {},
   "outputs": [],
   "source": [
    "s = [4, 4, 4, 5, 5, 5, 6, 6, 6]\n",
    "\n",
    "maxnbins = 5\n",
    "binsize = 15"
   ]
  },
  {
   "cell_type": "code",
   "execution_count": 4,
   "metadata": {},
   "outputs": [],
   "source": [
    "x = {}\n",
    "for i in range(len(s)):\n",
    "    x[i] = {j: mipmodel.add_var(var_type=BINARY) for j in range(maxnbins)}\n",
    "\n",
    "y = {j: mipmodel.add_var(var_type=BINARY) for j in range(maxnbins)}"
   ]
  },
  {
   "cell_type": "code",
   "execution_count": 5,
   "metadata": {},
   "outputs": [],
   "source": [
    "assignmentconstraint = {}\n",
    "for i in range(len(s)):\n",
    "    mipmodel += xsum(x[i][j] for j in range(maxnbins)) == 1, \"ass_\" + str(i)\n",
    "    assignmentconstraint[i] = \"ass_\" + str(i)\n",
    "\n",
    "capacityconstraint = {}\n",
    "for j in range(maxnbins):\n",
    "    mipmodel += xsum(s[i] * x[i][j] for i in range(len(s))) - binsize * y[\n",
    "        j\n",
    "    ] <= 0, \"cap_\" + str(j)\n",
    "    capacityconstraint[j] = \"cap_\" + str(j)"
   ]
  },
  {
   "cell_type": "code",
   "execution_count": 6,
   "metadata": {},
   "outputs": [],
   "source": [
    "mipmodel.objective = minimize(xsum(y[j] for j in range(maxnbins)))"
   ]
  },
  {
   "cell_type": "code",
   "execution_count": 7,
   "metadata": {},
   "outputs": [
    {
     "name": "stdout",
     "output_type": "stream",
     "text": [
      "optimal solution found - cost3.0 \n",
      "solution: \n",
      "x 0 2 1.0\n",
      "y 1 1.0\n",
      "y 2 1.0\n",
      "y 3 1.0\n",
      "x 1 3 1.0\n",
      "y 1 1.0\n",
      "y 2 1.0\n",
      "y 3 1.0\n",
      "x 2 1 1.0\n",
      "y 1 1.0\n",
      "y 2 1.0\n",
      "y 3 1.0\n",
      "x 3 3 1.0\n",
      "y 1 1.0\n",
      "y 2 1.0\n",
      "y 3 1.0\n",
      "x 4 1 1.0\n",
      "y 1 1.0\n",
      "y 2 1.0\n",
      "y 3 1.0\n",
      "x 5 2 1.0\n",
      "y 1 1.0\n",
      "y 2 1.0\n",
      "y 3 1.0\n",
      "x 6 3 1.0\n",
      "y 1 1.0\n",
      "y 2 1.0\n",
      "y 3 1.0\n",
      "x 7 2 1.0\n",
      "y 1 1.0\n",
      "y 2 1.0\n",
      "y 3 1.0\n",
      "x 8 1 1.0\n",
      "y 1 1.0\n",
      "y 2 1.0\n",
      "y 3 1.0\n"
     ]
    }
   ],
   "source": [
    "mipmodel.max_gap = 0.05\n",
    "status = mipmodel.optimize(max_seconds=300)\n",
    "if status == OptimizationStatus.OPTIMAL:\n",
    "    print(\"optimal solution found - cost{} \".format(mipmodel.objective_value))\n",
    "elif status == OptimizationStatus.FEASIBLE:\n",
    "    print(\n",
    "        \"sol.cost {} found, best possible: {} \".format(\n",
    "            mipmodel.objective_value, mipmodel.objective_bound\n",
    "        )\n",
    "    )\n",
    "elif status == OptimizationStatus.NO_SOLUTION_FOUND:\n",
    "    print(\n",
    "        \"no feasible solution found, lower bound is: {}\".format(\n",
    "            mipmodel.objective_bound\n",
    "        )\n",
    "    )\n",
    "if status == OptimizationStatus.OPTIMAL or status == OptimizationStatus.FEASIBLE:\n",
    "    print(\"solution: \")\n",
    "    for i in range(len(s)):\n",
    "        for j in range(maxnbins):\n",
    "            if x[i][j].x > 1e-6:\n",
    "                print(\"x\", i, j, x[i][j].x)\n",
    "\n",
    "        for j in y:\n",
    "            if y[j].x > 1e-6:\n",
    "                print(\"y\", j, y[j].x)"
   ]
  }
 ],
 "metadata": {
  "interpreter": {
   "hash": "15b0083f1850e8bf0d41bef0d753b5e596b9ca1183a11f045f4ea18f290943fa"
  },
  "kernelspec": {
   "display_name": "Python 3.9.12 64-bit",
   "language": "python",
   "name": "python3"
  },
  "language_info": {
   "codemirror_mode": {
    "name": "ipython",
    "version": 3
   },
   "file_extension": ".py",
   "mimetype": "text/x-python",
   "name": "python",
   "nbconvert_exporter": "python",
   "pygments_lexer": "ipython3",
   "version": "3.9.12"
  },
  "orig_nbformat": 4
 },
 "nbformat": 4,
 "nbformat_minor": 2
}
